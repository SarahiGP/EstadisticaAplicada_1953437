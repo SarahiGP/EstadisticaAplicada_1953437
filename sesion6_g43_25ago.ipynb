{
 "cells": [
  {
   "cell_type": "markdown",
   "metadata": {},
   "source": [
    "## Estadística Aplicada\n",
    "Sesión 6 - 25 agosto\n",
    "\n",
    "Cecilia Sarahí Gutiérrez Padilla   1953437   gpo 43"
   ]
  },
  {
   "cell_type": "markdown",
   "metadata": {},
   "source": [
    "## Repaso de MCO"
   ]
  },
  {
   "cell_type": "code",
   "execution_count": 35,
   "metadata": {},
   "outputs": [],
   "source": [
    "# librerias básicas\n",
    "import numpy as np\n",
    "import pandas as pd\n",
    "import matplotlib.pyplot as plt\n",
    "%matplotlib inline\n",
    "## especializada\n",
    "import statsmodels.formula.api as smf"
   ]
  },
  {
   "cell_type": "code",
   "execution_count": 36,
   "metadata": {},
   "outputs": [],
   "source": [
    "# Datos\n",
    "datos= pd.read_excel('modelolineal.xlsx')"
   ]
  },
  {
   "cell_type": "code",
   "execution_count": 37,
   "metadata": {},
   "outputs": [],
   "source": [
    "datos = datos[['X', 'Y']]"
   ]
  },
  {
   "cell_type": "code",
   "execution_count": 38,
   "metadata": {},
   "outputs": [
    {
     "data": {
      "text/html": [
       "<div>\n",
       "<style scoped>\n",
       "    .dataframe tbody tr th:only-of-type {\n",
       "        vertical-align: middle;\n",
       "    }\n",
       "\n",
       "    .dataframe tbody tr th {\n",
       "        vertical-align: top;\n",
       "    }\n",
       "\n",
       "    .dataframe thead th {\n",
       "        text-align: right;\n",
       "    }\n",
       "</style>\n",
       "<table border=\"1\" class=\"dataframe\">\n",
       "  <thead>\n",
       "    <tr style=\"text-align: right;\">\n",
       "      <th></th>\n",
       "      <th>X</th>\n",
       "      <th>Y</th>\n",
       "    </tr>\n",
       "  </thead>\n",
       "  <tbody>\n",
       "    <tr>\n",
       "      <th>count</th>\n",
       "      <td>30.000000</td>\n",
       "      <td>30.000000</td>\n",
       "    </tr>\n",
       "    <tr>\n",
       "      <th>mean</th>\n",
       "      <td>17.333333</td>\n",
       "      <td>19.038965</td>\n",
       "    </tr>\n",
       "    <tr>\n",
       "      <th>std</th>\n",
       "      <td>8.372094</td>\n",
       "      <td>5.689742</td>\n",
       "    </tr>\n",
       "    <tr>\n",
       "      <th>min</th>\n",
       "      <td>0.000000</td>\n",
       "      <td>6.808838</td>\n",
       "    </tr>\n",
       "    <tr>\n",
       "      <th>25%</th>\n",
       "      <td>12.250000</td>\n",
       "      <td>14.128834</td>\n",
       "    </tr>\n",
       "    <tr>\n",
       "      <th>50%</th>\n",
       "      <td>19.000000</td>\n",
       "      <td>19.937977</td>\n",
       "    </tr>\n",
       "    <tr>\n",
       "      <th>75%</th>\n",
       "      <td>23.000000</td>\n",
       "      <td>24.151130</td>\n",
       "    </tr>\n",
       "    <tr>\n",
       "      <th>max</th>\n",
       "      <td>29.000000</td>\n",
       "      <td>28.422786</td>\n",
       "    </tr>\n",
       "  </tbody>\n",
       "</table>\n",
       "</div>"
      ],
      "text/plain": [
       "               X          Y\n",
       "count  30.000000  30.000000\n",
       "mean   17.333333  19.038965\n",
       "std     8.372094   5.689742\n",
       "min     0.000000   6.808838\n",
       "25%    12.250000  14.128834\n",
       "50%    19.000000  19.937977\n",
       "75%    23.000000  24.151130\n",
       "max    29.000000  28.422786"
      ]
     },
     "execution_count": 38,
     "metadata": {},
     "output_type": "execute_result"
    }
   ],
   "source": [
    "# estadísticas descriptivas\n",
    "datos.describe()"
   ]
  },
  {
   "cell_type": "code",
   "execution_count": 39,
   "metadata": {},
   "outputs": [
    {
     "data": {
      "image/png": "[encoded data removed]",
      "text/plain": [
       "<Figure size 640x480 with 1 Axes>"
      ]
     },
     "metadata": {},
     "output_type": "display_data"
    }
   ],
   "source": [
    "## grafico de dispersion\n",
    "plt.scatter(datos['X'], datos['Y'])\n",
    "plt.title('Gráfico de dispersión X-Y')\n",
    "plt.xlabel('Variable X')\n",
    "plt.ylabel('Variable Y')\n",
    "plt.show()"
   ]
  },
  {
   "cell_type": "markdown",
   "metadata": {},
   "source": [
    "El gráfico muestra una regresión lineal por lo que tiene sentido estimar un modelo de mínimos cuadrados ordinarios"
   ]
  },
  {
   "cell_type": "markdown",
   "metadata": {},
   "source": [
    "Vamos a estimar $Y = \\beta_0 + \\beta_1X$ "
   ]
  },
  {
   "cell_type": "code",
   "execution_count": 40,
   "metadata": {},
   "outputs": [
    {
     "name": "stdout",
     "output_type": "stream",
     "text": [
      "                            OLS Regression Results                            \n",
      "==============================================================================\n",
      "Dep. Variable:                      Y   R-squared:                       0.732\n",
      "Model:                            OLS   Adj. R-squared:                  0.722\n",
      "Method:                 Least Squares   F-statistic:                     76.40\n",
      "Date:                Fri, 25 Aug 2023   Prob (F-statistic):           1.72e-09\n",
      "Time:                        16:01:11   Log-Likelihood:                -74.480\n",
      "No. Observations:                  30   AIC:                             153.0\n",
      "Df Residuals:                      28   BIC:                             155.8\n",
      "Df Model:                           1                                         \n",
      "Covariance Type:            nonrobust                                         \n",
      "==============================================================================\n",
      "                 coef    std err          t      P>|t|      [0.025      0.975]\n",
      "------------------------------------------------------------------------------\n",
      "Intercept      8.9619      1.276      7.022      0.000       6.347      11.576\n",
      "X              0.5814      0.067      8.740      0.000       0.445       0.718\n",
      "==============================================================================\n",
      "Omnibus:                        0.249   Durbin-Watson:                   1.658\n",
      "Prob(Omnibus):                  0.883   Jarque-Bera (JB):                0.440\n",
      "Skew:                           0.121   Prob(JB):                        0.803\n",
      "Kurtosis:                       2.459   Cond. No.                         44.8\n",
      "==============================================================================\n",
      "\n",
      "Notes:\n",
      "[1] Standard Errors assume that the covariance matrix of the errors is correctly specified.\n"
     ]
    }
   ],
   "source": [
    "## 1 especifica el modelo\n",
    "reg0 = smf.ols(formula='Y~X', data=datos)\n",
    "## 2 estima el modelo\n",
    "results0= reg0.fit()\n",
    "## 3 mostramos el modelo estimado\n",
    "print(results0.summary())"
   ]
  },
  {
   "cell_type": "markdown",
   "metadata": {},
   "source": [
    "Intercepto: p_value < alfa\n",
    "\n",
    "Rechazamos Ho, significa que el intercepto es distinto de cero estadísticamente hablando. \"Estadísticamente significativo\" con un valor de 8.96\n",
    "\n",
    "\"X\": p_value < alfa\n",
    "\n",
    "Rechazamos Ho, significa que \"X\" afecta a \"Y\". En promedio cuando \"X\" aumento 1, \"Y\" aumenta 0.58\n",
    "\n",
    "\n",
    "Bondad de Ajuste R^2\n",
    "\n",
    "MAD= Desviación absoluta media\n",
    "\n",
    "MSD= Desviación cuadrática media\n",
    "\n",
    "MAPE= Error porcentual absoluto medio"
   ]
  },
  {
   "cell_type": "code",
   "execution_count": 41,
   "metadata": {},
   "outputs": [],
   "source": [
    "## primero obtenemos el valor poronosticado\n",
    "datos['Y_hat'] = results0.predict(datos)"
   ]
  },
  {
   "cell_type": "code",
   "execution_count": 42,
   "metadata": {},
   "outputs": [
    {
     "data": {
      "text/html": [
       "<div>\n",
       "<style scoped>\n",
       "    .dataframe tbody tr th:only-of-type {\n",
       "        vertical-align: middle;\n",
       "    }\n",
       "\n",
       "    .dataframe tbody tr th {\n",
       "        vertical-align: top;\n",
       "    }\n",
       "\n",
       "    .dataframe thead th {\n",
       "        text-align: right;\n",
       "    }\n",
       "</style>\n",
       "<table border=\"1\" class=\"dataframe\">\n",
       "  <thead>\n",
       "    <tr style=\"text-align: right;\">\n",
       "      <th></th>\n",
       "      <th>X</th>\n",
       "      <th>Y</th>\n",
       "      <th>Y_hat</th>\n",
       "    </tr>\n",
       "  </thead>\n",
       "  <tbody>\n",
       "    <tr>\n",
       "      <th>0</th>\n",
       "      <td>23</td>\n",
       "      <td>19.246957</td>\n",
       "      <td>22.333385</td>\n",
       "    </tr>\n",
       "    <tr>\n",
       "      <th>1</th>\n",
       "      <td>19</td>\n",
       "      <td>16.878501</td>\n",
       "      <td>20.007912</td>\n",
       "    </tr>\n",
       "    <tr>\n",
       "      <th>2</th>\n",
       "      <td>27</td>\n",
       "      <td>20.187237</td>\n",
       "      <td>24.658857</td>\n",
       "    </tr>\n",
       "    <tr>\n",
       "      <th>3</th>\n",
       "      <td>13</td>\n",
       "      <td>12.176789</td>\n",
       "      <td>16.519703</td>\n",
       "    </tr>\n",
       "    <tr>\n",
       "      <th>4</th>\n",
       "      <td>21</td>\n",
       "      <td>21.420112</td>\n",
       "      <td>21.170648</td>\n",
       "    </tr>\n",
       "  </tbody>\n",
       "</table>\n",
       "</div>"
      ],
      "text/plain": [
       "    X          Y      Y_hat\n",
       "0  23  19.246957  22.333385\n",
       "1  19  16.878501  20.007912\n",
       "2  27  20.187237  24.658857\n",
       "3  13  12.176789  16.519703\n",
       "4  21  21.420112  21.170648"
      ]
     },
     "execution_count": 42,
     "metadata": {},
     "output_type": "execute_result"
    }
   ],
   "source": [
    "datos.head()"
   ]
  },
  {
   "cell_type": "code",
   "execution_count": 43,
   "metadata": {},
   "outputs": [],
   "source": [
    "## calcular el MAD\n",
    "MAD0 = (datos['Y']-datos['Y_hat']).abs().mean()"
   ]
  },
  {
   "cell_type": "code",
   "execution_count": 44,
   "metadata": {},
   "outputs": [
    {
     "name": "stdout",
     "output_type": "stream",
     "text": [
      "El MAD del modelo es: 2.3543034803789946\n"
     ]
    }
   ],
   "source": [
    "print('El MAD del modelo es:', MAD0)"
   ]
  },
  {
   "cell_type": "markdown",
   "metadata": {},
   "source": [
    "Vamos a evaluar $Y = \\beta_0 + \\beta_1X + \\beta_2 X^2$"
   ]
  },
  {
   "cell_type": "code",
   "execution_count": 45,
   "metadata": {},
   "outputs": [],
   "source": [
    "## Calcular la X cuadrada\n",
    "datos['X2'] = datos['X']**2"
   ]
  },
  {
   "cell_type": "code",
   "execution_count": 46,
   "metadata": {},
   "outputs": [
    {
     "name": "stdout",
     "output_type": "stream",
     "text": [
      "                            OLS Regression Results                            \n",
      "==============================================================================\n",
      "Dep. Variable:                      Y   R-squared:                       0.732\n",
      "Model:                            OLS   Adj. R-squared:                  0.712\n",
      "Method:                 Least Squares   F-statistic:                     36.85\n",
      "Date:                Fri, 25 Aug 2023   Prob (F-statistic):           1.92e-08\n",
      "Time:                        16:01:12   Log-Likelihood:                -74.475\n",
      "No. Observations:                  30   AIC:                             155.0\n",
      "Df Residuals:                      27   BIC:                             159.2\n",
      "Df Model:                           2                                         \n",
      "Covariance Type:            nonrobust                                         \n",
      "==============================================================================\n",
      "                 coef    std err          t      P>|t|      [0.025      0.975]\n",
      "------------------------------------------------------------------------------\n",
      "Intercept      8.8518      1.790      4.945      0.000       5.179      12.525\n",
      "X              0.6029      0.250      2.408      0.023       0.089       1.117\n",
      "X2            -0.0007      0.008     -0.089      0.929      -0.017       0.016\n",
      "==============================================================================\n",
      "Omnibus:                        0.249   Durbin-Watson:                   1.654\n",
      "Prob(Omnibus):                  0.883   Jarque-Bera (JB):                0.443\n",
      "Skew:                           0.104   Prob(JB):                        0.802\n",
      "Kurtosis:                       2.442   Cond. No.                     1.45e+03\n",
      "==============================================================================\n",
      "\n",
      "Notes:\n",
      "[1] Standard Errors assume that the covariance matrix of the errors is correctly specified.\n",
      "[2] The condition number is large, 1.45e+03. This might indicate that there are\n",
      "strong multicollinearity or other numerical problems.\n"
     ]
    }
   ],
   "source": [
    "## 1 Especificamos\n",
    "reg1 = smf.ols(formula='Y~X+X2', data=datos)\n",
    "## 2 Estimamos\n",
    "results1 = reg1.fit()\n",
    "## 3 Mostramos\n",
    "print(results1.summary())\n"
   ]
  },
  {
   "cell_type": "code",
   "execution_count": 47,
   "metadata": {},
   "outputs": [],
   "source": [
    "datos['Y_hat1']= results1.predict(datos)"
   ]
  },
  {
   "cell_type": "code",
   "execution_count": 48,
   "metadata": {},
   "outputs": [],
   "source": [
    "MAD1 = (datos['Y']-datos['Y_hat1']).abs().mean()"
   ]
  },
  {
   "cell_type": "code",
   "execution_count": 49,
   "metadata": {},
   "outputs": [
    {
     "name": "stdout",
     "output_type": "stream",
     "text": [
      "2.354 2.355\n"
     ]
    }
   ],
   "source": [
    "print(MAD0.round(3), MAD1.round(3))"
   ]
  },
  {
   "cell_type": "markdown",
   "metadata": {},
   "source": [
    "El mejor modelo es del menor valor del MAD, eso significa que el modelo $Y=\\beta_0 + \\beta_1 X$ es el mejor modelo "
   ]
  },
  {
   "cell_type": "markdown",
   "metadata": {},
   "source": [
    "## Validación Cruzada"
   ]
  },
  {
   "cell_type": "code",
   "execution_count": 50,
   "metadata": {},
   "outputs": [],
   "source": [
    "datos= pd.read_excel('modelolineal.xlsx')\n",
    "datos= datos[['X', 'Y']]\n"
   ]
  },
  {
   "cell_type": "code",
   "execution_count": 51,
   "metadata": {},
   "outputs": [],
   "source": [
    "datos['X2']= datos['X']**2"
   ]
  },
  {
   "cell_type": "code",
   "execution_count": 52,
   "metadata": {},
   "outputs": [
    {
     "data": {
      "text/html": [
       "<div>\n",
       "<style scoped>\n",
       "    .dataframe tbody tr th:only-of-type {\n",
       "        vertical-align: middle;\n",
       "    }\n",
       "\n",
       "    .dataframe tbody tr th {\n",
       "        vertical-align: top;\n",
       "    }\n",
       "\n",
       "    .dataframe thead th {\n",
       "        text-align: right;\n",
       "    }\n",
       "</style>\n",
       "<table border=\"1\" class=\"dataframe\">\n",
       "  <thead>\n",
       "    <tr style=\"text-align: right;\">\n",
       "      <th></th>\n",
       "      <th>X</th>\n",
       "      <th>Y</th>\n",
       "      <th>X2</th>\n",
       "    </tr>\n",
       "  </thead>\n",
       "  <tbody>\n",
       "    <tr>\n",
       "      <th>0</th>\n",
       "      <td>23</td>\n",
       "      <td>19.246957</td>\n",
       "      <td>529</td>\n",
       "    </tr>\n",
       "    <tr>\n",
       "      <th>1</th>\n",
       "      <td>19</td>\n",
       "      <td>16.878501</td>\n",
       "      <td>361</td>\n",
       "    </tr>\n",
       "    <tr>\n",
       "      <th>2</th>\n",
       "      <td>27</td>\n",
       "      <td>20.187237</td>\n",
       "      <td>729</td>\n",
       "    </tr>\n",
       "    <tr>\n",
       "      <th>3</th>\n",
       "      <td>13</td>\n",
       "      <td>12.176789</td>\n",
       "      <td>169</td>\n",
       "    </tr>\n",
       "    <tr>\n",
       "      <th>4</th>\n",
       "      <td>21</td>\n",
       "      <td>21.420112</td>\n",
       "      <td>441</td>\n",
       "    </tr>\n",
       "  </tbody>\n",
       "</table>\n",
       "</div>"
      ],
      "text/plain": [
       "    X          Y   X2\n",
       "0  23  19.246957  529\n",
       "1  19  16.878501  361\n",
       "2  27  20.187237  729\n",
       "3  13  12.176789  169\n",
       "4  21  21.420112  441"
      ]
     },
     "execution_count": 52,
     "metadata": {},
     "output_type": "execute_result"
    }
   ],
   "source": [
    "datos.head()"
   ]
  },
  {
   "cell_type": "code",
   "execution_count": 53,
   "metadata": {},
   "outputs": [],
   "source": [
    "##conjunto entrenamiento y conjunto de prueba\n",
    "#conjunto entrenamiento\n",
    "train_set = datos.iloc[:20]\n",
    "#conjunto evaluacion\n",
    "test_set = datos.iloc[20:]"
   ]
  },
  {
   "cell_type": "markdown",
   "metadata": {},
   "source": [
    "$Y= \\beta_0 + \\beta_1 X $"
   ]
  },
  {
   "cell_type": "code",
   "execution_count": 54,
   "metadata": {},
   "outputs": [],
   "source": [
    "## estimar conjunto de entrenamiento\n",
    "#1\n",
    "regm1 =smf.ols(formula='Y~X', data=train_set)\n",
    "#2\n",
    "resultsm1 =regm1.fit()"
   ]
  },
  {
   "cell_type": "code",
   "execution_count": 55,
   "metadata": {},
   "outputs": [
    {
     "name": "stderr",
     "output_type": "stream",
     "text": [
      "C:\\Users\\DELL\\AppData\\Local\\Temp\\ipykernel_11632\\1800454135.py:2: SettingWithCopyWarning: \n",
      "A value is trying to be set on a copy of a slice from a DataFrame.\n",
      "Try using .loc[row_indexer,col_indexer] = value instead\n",
      "\n",
      "See the caveats in the documentation: https://pandas.pydata.org/pandas-docs/stable/user_guide/indexing.html#returning-a-view-versus-a-copy\n",
      "  test_set['Y_est1']= resultsm1.predict(test_set)\n"
     ]
    }
   ],
   "source": [
    "## pronosticar\n",
    "test_set['Y_est1']= resultsm1.predict(test_set)"
   ]
  },
  {
   "cell_type": "code",
   "execution_count": 56,
   "metadata": {},
   "outputs": [
    {
     "data": {
      "text/html": [
       "<div>\n",
       "<style scoped>\n",
       "    .dataframe tbody tr th:only-of-type {\n",
       "        vertical-align: middle;\n",
       "    }\n",
       "\n",
       "    .dataframe tbody tr th {\n",
       "        vertical-align: top;\n",
       "    }\n",
       "\n",
       "    .dataframe thead th {\n",
       "        text-align: right;\n",
       "    }\n",
       "</style>\n",
       "<table border=\"1\" class=\"dataframe\">\n",
       "  <thead>\n",
       "    <tr style=\"text-align: right;\">\n",
       "      <th></th>\n",
       "      <th>X</th>\n",
       "      <th>Y</th>\n",
       "      <th>X2</th>\n",
       "      <th>Y_est1</th>\n",
       "    </tr>\n",
       "  </thead>\n",
       "  <tbody>\n",
       "    <tr>\n",
       "      <th>20</th>\n",
       "      <td>0</td>\n",
       "      <td>9.544102</td>\n",
       "      <td>0</td>\n",
       "      <td>9.233587</td>\n",
       "    </tr>\n",
       "    <tr>\n",
       "      <th>21</th>\n",
       "      <td>20</td>\n",
       "      <td>24.230330</td>\n",
       "      <td>400</td>\n",
       "      <td>20.117395</td>\n",
       "    </tr>\n",
       "    <tr>\n",
       "      <th>22</th>\n",
       "      <td>24</td>\n",
       "      <td>26.417826</td>\n",
       "      <td>576</td>\n",
       "      <td>22.294157</td>\n",
       "    </tr>\n",
       "    <tr>\n",
       "      <th>23</th>\n",
       "      <td>23</td>\n",
       "      <td>23.066723</td>\n",
       "      <td>529</td>\n",
       "      <td>21.749966</td>\n",
       "    </tr>\n",
       "    <tr>\n",
       "      <th>24</th>\n",
       "      <td>8</td>\n",
       "      <td>13.145005</td>\n",
       "      <td>64</td>\n",
       "      <td>13.587110</td>\n",
       "    </tr>\n",
       "    <tr>\n",
       "      <th>25</th>\n",
       "      <td>24</td>\n",
       "      <td>24.385156</td>\n",
       "      <td>576</td>\n",
       "      <td>22.294157</td>\n",
       "    </tr>\n",
       "    <tr>\n",
       "      <th>26</th>\n",
       "      <td>10</td>\n",
       "      <td>12.934102</td>\n",
       "      <td>100</td>\n",
       "      <td>14.675491</td>\n",
       "    </tr>\n",
       "    <tr>\n",
       "      <th>27</th>\n",
       "      <td>4</td>\n",
       "      <td>14.002469</td>\n",
       "      <td>16</td>\n",
       "      <td>11.410349</td>\n",
       "    </tr>\n",
       "    <tr>\n",
       "      <th>28</th>\n",
       "      <td>29</td>\n",
       "      <td>26.599047</td>\n",
       "      <td>841</td>\n",
       "      <td>25.015109</td>\n",
       "    </tr>\n",
       "    <tr>\n",
       "      <th>29</th>\n",
       "      <td>10</td>\n",
       "      <td>11.910387</td>\n",
       "      <td>100</td>\n",
       "      <td>14.675491</td>\n",
       "    </tr>\n",
       "  </tbody>\n",
       "</table>\n",
       "</div>"
      ],
      "text/plain": [
       "     X          Y   X2     Y_est1\n",
       "20   0   9.544102    0   9.233587\n",
       "21  20  24.230330  400  20.117395\n",
       "22  24  26.417826  576  22.294157\n",
       "23  23  23.066723  529  21.749966\n",
       "24   8  13.145005   64  13.587110\n",
       "25  24  24.385156  576  22.294157\n",
       "26  10  12.934102  100  14.675491\n",
       "27   4  14.002469   16  11.410349\n",
       "28  29  26.599047  841  25.015109\n",
       "29  10  11.910387  100  14.675491"
      ]
     },
     "execution_count": 56,
     "metadata": {},
     "output_type": "execute_result"
    }
   ],
   "source": [
    "test_set"
   ]
  },
  {
   "cell_type": "code",
   "execution_count": 61,
   "metadata": {},
   "outputs": [
    {
     "name": "stdout",
     "output_type": "stream",
     "text": [
      "Collecting scikit-learnNote: you may need to restart the kernel to use updated packages.\n",
      "\n",
      "  Downloading scikit_learn-1.3.0-cp311-cp311-win_amd64.whl (9.2 MB)\n",
      "                                              0.0/9.2 MB ? eta -:--:--\n",
      "                                              0.1/9.2 MB 1.9 MB/s eta 0:00:05\n",
      "                                              0.2/9.2 MB 2.4 MB/s eta 0:00:04\n",
      "     -                                        0.3/9.2 MB 2.6 MB/s eta 0:00:04\n",
      "     --                                       0.5/9.2 MB 3.1 MB/s eta 0:00:03\n",
      "     ---                                      0.7/9.2 MB 3.3 MB/s eta 0:00:03\n",
      "     ----                                     0.9/9.2 MB 3.5 MB/s eta 0:00:03\n",
      "     ----                                     1.1/9.2 MB 3.6 MB/s eta 0:00:03\n",
      "     -----                                    1.3/9.2 MB 3.6 MB/s eta 0:00:03\n",
      "     ------                                   1.4/9.2 MB 3.5 MB/s eta 0:00:03\n",
      "     ------                                   1.6/9.2 MB 3.5 MB/s eta 0:00:03\n",
      "     -------                                  1.8/9.2 MB 3.5 MB/s eta 0:00:03\n",
      "     --------                                 1.9/9.2 MB 3.5 MB/s eta 0:00:03\n",
      "     ---------                                2.1/9.2 MB 3.5 MB/s eta 0:00:03\n",
      "     ---------                                2.2/9.2 MB 3.5 MB/s eta 0:00:03\n",
      "     ----------                               2.4/9.2 MB 3.5 MB/s eta 0:00:02\n",
      "     -----------                              2.5/9.2 MB 3.4 MB/s eta 0:00:02\n",
      "     -----------                              2.7/9.2 MB 3.4 MB/s eta 0:00:02\n",
      "     ------------                             2.9/9.2 MB 3.5 MB/s eta 0:00:02\n",
      "     -------------                            3.2/9.2 MB 3.6 MB/s eta 0:00:02\n",
      "     ---------------                          3.5/9.2 MB 3.8 MB/s eta 0:00:02\n",
      "     ----------------                         3.8/9.2 MB 3.9 MB/s eta 0:00:02\n",
      "     -----------------                        4.1/9.2 MB 4.0 MB/s eta 0:00:02\n",
      "     ------------------                       4.3/9.2 MB 4.1 MB/s eta 0:00:02\n",
      "     --------------------                     4.6/9.2 MB 4.2 MB/s eta 0:00:02\n",
      "     ---------------------                    4.9/9.2 MB 4.2 MB/s eta 0:00:02\n",
      "     ----------------------                   5.2/9.2 MB 4.3 MB/s eta 0:00:01\n",
      "     ------------------------                 5.7/9.2 MB 4.5 MB/s eta 0:00:01\n",
      "     --------------------------               6.2/9.2 MB 4.8 MB/s eta 0:00:01\n",
      "     -----------------------------            6.7/9.2 MB 5.0 MB/s eta 0:00:01\n",
      "     -------------------------------          7.3/9.2 MB 5.2 MB/s eta 0:00:01\n",
      "     ----------------------------------       7.8/9.2 MB 5.4 MB/s eta 0:00:01\n",
      "     -----------------------------------      8.2/9.2 MB 5.5 MB/s eta 0:00:01\n",
      "     -------------------------------------    8.5/9.2 MB 5.6 MB/s eta 0:00:01\n",
      "     ---------------------------------------  9.0/9.2 MB 5.7 MB/s eta 0:00:01\n",
      "     ---------------------------------------  9.2/9.2 MB 5.7 MB/s eta 0:00:01\n",
      "     ---------------------------------------  9.2/9.2 MB 5.7 MB/s eta 0:00:01\n",
      "     ---------------------------------------  9.2/9.2 MB 5.7 MB/s eta 0:00:01\n",
      "     ---------------------------------------- 9.2/9.2 MB 5.2 MB/s eta 0:00:00\n",
      "Requirement already satisfied: numpy>=1.17.3 in c:\\users\\dell\\appdata\\local\\programs\\python\\python311\\lib\\site-packages (from scikit-learn) (1.25.2)\n",
      "Requirement already satisfied: scipy>=1.5.0 in c:\\users\\dell\\appdata\\local\\programs\\python\\python311\\lib\\site-packages (from scikit-learn) (1.11.2)\n",
      "Collecting joblib>=1.1.1 (from scikit-learn)\n",
      "  Downloading joblib-1.3.2-py3-none-any.whl (302 kB)\n",
      "                                              0.0/302.2 kB ? eta -:--:--\n",
      "     --------------------------------       256.0/302.2 kB 5.2 MB/s eta 0:00:01\n",
      "     -------------------------------------- 302.2/302.2 kB 3.1 MB/s eta 0:00:00\n",
      "Collecting threadpoolctl>=2.0.0 (from scikit-learn)\n",
      "  Downloading threadpoolctl-3.2.0-py3-none-any.whl (15 kB)\n",
      "Installing collected packages: threadpoolctl, joblib, scikit-learn\n",
      "Successfully installed joblib-1.3.2 scikit-learn-1.3.0 threadpoolctl-3.2.0\n"
     ]
    },
    {
     "name": "stderr",
     "output_type": "stream",
     "text": [
      "\n",
      "[notice] A new release of pip is available: 23.1.2 -> 23.2.1\n",
      "[notice] To update, run: python.exe -m pip install --upgrade pip\n"
     ]
    }
   ],
   "source": [
    "pip install scikit-learn"
   ]
  },
  {
   "cell_type": "code",
   "execution_count": 62,
   "metadata": {},
   "outputs": [],
   "source": [
    "from sklearn.metrics import mean_absolute_error as MAD"
   ]
  },
  {
   "cell_type": "code",
   "execution_count": 65,
   "metadata": {},
   "outputs": [],
   "source": [
    "MADm1=MAD(test_set['Y'], test_set['Y_est1'])"
   ]
  },
  {
   "cell_type": "code",
   "execution_count": 66,
   "metadata": {},
   "outputs": [
    {
     "name": "stdout",
     "output_type": "stream",
     "text": [
      "2.107953156470991\n"
     ]
    }
   ],
   "source": [
    "print(MADm1)"
   ]
  },
  {
   "cell_type": "markdown",
   "metadata": {},
   "source": [
    "modelo $Y= \\beta_0 + \\beta_1 X + \\beta_2 X^2$"
   ]
  },
  {
   "cell_type": "code",
   "execution_count": 68,
   "metadata": {},
   "outputs": [],
   "source": [
    "#estimar\n",
    "#1\n",
    "regm2 = smf.ols(formula= 'Y~X+X2', data= train_set)\n",
    "#2\n",
    "resultsm2= regm2.fit()"
   ]
  },
  {
   "cell_type": "code",
   "execution_count": 70,
   "metadata": {},
   "outputs": [
    {
     "name": "stderr",
     "output_type": "stream",
     "text": [
      "C:\\Users\\DELL\\AppData\\Local\\Temp\\ipykernel_11632\\2034159319.py:2: SettingWithCopyWarning: \n",
      "A value is trying to be set on a copy of a slice from a DataFrame.\n",
      "Try using .loc[row_indexer,col_indexer] = value instead\n",
      "\n",
      "See the caveats in the documentation: https://pandas.pydata.org/pandas-docs/stable/user_guide/indexing.html#returning-a-view-versus-a-copy\n",
      "  test_set['Y_est2']= resultsm2.predict(test_set)\n"
     ]
    }
   ],
   "source": [
    "#pronosticamos\n",
    "test_set['Y_est2']= resultsm2.predict(test_set)"
   ]
  },
  {
   "cell_type": "code",
   "execution_count": 71,
   "metadata": {},
   "outputs": [],
   "source": [
    "## calculamos MAD\n",
    "MADm2= MAD(test_set['Y'], test_set['Y_est2'])"
   ]
  },
  {
   "cell_type": "code",
   "execution_count": 72,
   "metadata": {},
   "outputs": [
    {
     "name": "stdout",
     "output_type": "stream",
     "text": [
      "2.334061668653748\n"
     ]
    }
   ],
   "source": [
    "print(MADm2)"
   ]
  },
  {
   "cell_type": "code",
   "execution_count": 73,
   "metadata": {},
   "outputs": [
    {
     "name": "stdout",
     "output_type": "stream",
     "text": [
      "2.334061668653748\n"
     ]
    }
   ],
   "source": [
    "print(MADm2)"
   ]
  },
  {
   "cell_type": "code",
   "execution_count": 74,
   "metadata": {},
   "outputs": [
    {
     "name": "stdout",
     "output_type": "stream",
     "text": [
      "Validación cruzada 2.107953156470991 2.334061668653748\n"
     ]
    }
   ],
   "source": [
    "print ('Validación cruzada', MADm1, MADm2)"
   ]
  },
  {
   "cell_type": "code",
   "execution_count": 75,
   "metadata": {},
   "outputs": [
    {
     "name": "stdout",
     "output_type": "stream",
     "text": [
      "2.3543034803789946 2.3553110792438803\n"
     ]
    }
   ],
   "source": [
    "print (MAD0, MAD1)"
   ]
  }
 ],
 "metadata": {
  "kernelspec": {
   "display_name": "Python 3",
   "language": "python",
   "name": "python3"
  },
  "language_info": {
   "codemirror_mode": {
    "name": "ipython",
    "version": 3
   },
   "file_extension": ".py",
   "mimetype": "text/x-python",
   "name": "python",
   "nbconvert_exporter": "python",
   "pygments_lexer": "ipython3",
   "version": "3.11.4"
  },
  "orig_nbformat": 4
 },
 "nbformat": 4,
 "nbformat_minor": 2
}
