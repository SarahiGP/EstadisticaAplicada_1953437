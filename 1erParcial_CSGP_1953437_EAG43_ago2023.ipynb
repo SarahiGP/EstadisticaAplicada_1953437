{
 "cells": [
  {
   "cell_type": "markdown",
   "metadata": {},
   "source": [
    "## Estadística Aplicada\n",
    "\n",
    "Cecilia Sarahí Gutiérrez Padilla  1953437\n",
    "\n",
    "Grupo 43"
   ]
  },
  {
   "cell_type": "code",
   "execution_count": 11,
   "metadata": {},
   "outputs": [],
   "source": [
    "# librerias\n",
    "import numpy as np\n",
    "import pandas as pd\n",
    "import matplotlib.pyplot as plt\n",
    "%matplotlib inline"
   ]
  },
  {
   "cell_type": "markdown",
   "metadata": {},
   "source": [
    "**1.- Carga la base de datos de películas raw.githubusercontent.com/jimmyzac/Estadistica-Aplicada-FCFM-UANL/main/bases_datos/peliculas.csv que tiene información sobre películas, incluyendo el título(title), género (category ) y duración en minutos(length).**"
   ]
  },
  {
   "cell_type": "code",
   "execution_count": 12,
   "metadata": {},
   "outputs": [],
   "source": [
    "# datos\n",
    "peliculas=pd.read_csv('https://raw.githubusercontent.com/jimmyzac/Estadistica-Aplicada-FCFM-UANL/main/bases_datos/peliculas.csv')"
   ]
  },
  {
   "cell_type": "code",
   "execution_count": 13,
   "metadata": {},
   "outputs": [
    {
     "data": {
      "text/html": [
       "<div>\n",
       "<style scoped>\n",
       "    .dataframe tbody tr th:only-of-type {\n",
       "        vertical-align: middle;\n",
       "    }\n",
       "\n",
       "    .dataframe tbody tr th {\n",
       "        vertical-align: top;\n",
       "    }\n",
       "\n",
       "    .dataframe thead th {\n",
       "        text-align: right;\n",
       "    }\n",
       "</style>\n",
       "<table border=\"1\" class=\"dataframe\">\n",
       "  <thead>\n",
       "    <tr style=\"text-align: right;\">\n",
       "      <th></th>\n",
       "      <th>title</th>\n",
       "      <th>description</th>\n",
       "      <th>release_year</th>\n",
       "      <th>rental_rate</th>\n",
       "      <th>length</th>\n",
       "      <th>rating</th>\n",
       "      <th>special_features</th>\n",
       "      <th>category</th>\n",
       "    </tr>\n",
       "  </thead>\n",
       "  <tbody>\n",
       "    <tr>\n",
       "      <th>0</th>\n",
       "      <td>Academy Dinosaur</td>\n",
       "      <td>A Epic Drama of a Feminist And a Mad Scientist...</td>\n",
       "      <td>2006</td>\n",
       "      <td>0.99</td>\n",
       "      <td>86</td>\n",
       "      <td>PG</td>\n",
       "      <td>Deleted Scenes,Behind the Scenes</td>\n",
       "      <td>Documentary</td>\n",
       "    </tr>\n",
       "    <tr>\n",
       "      <th>1</th>\n",
       "      <td>Ace Goldfinger</td>\n",
       "      <td>A Astounding Epistle of a Database Administrat...</td>\n",
       "      <td>2006</td>\n",
       "      <td>4.99</td>\n",
       "      <td>48</td>\n",
       "      <td>G</td>\n",
       "      <td>Trailers,Deleted Scenes</td>\n",
       "      <td>Horror</td>\n",
       "    </tr>\n",
       "    <tr>\n",
       "      <th>2</th>\n",
       "      <td>Adaptation Holes</td>\n",
       "      <td>A Astounding Reflection of a Lumberjack And a ...</td>\n",
       "      <td>2006</td>\n",
       "      <td>2.99</td>\n",
       "      <td>50</td>\n",
       "      <td>NC-17</td>\n",
       "      <td>Trailers,Deleted Scenes</td>\n",
       "      <td>Documentary</td>\n",
       "    </tr>\n",
       "    <tr>\n",
       "      <th>3</th>\n",
       "      <td>Affair Prejudice</td>\n",
       "      <td>A Fanciful Documentary of a Frisbee And a Lumb...</td>\n",
       "      <td>2006</td>\n",
       "      <td>2.99</td>\n",
       "      <td>117</td>\n",
       "      <td>G</td>\n",
       "      <td>Commentaries,Behind the Scenes</td>\n",
       "      <td>Horror</td>\n",
       "    </tr>\n",
       "    <tr>\n",
       "      <th>4</th>\n",
       "      <td>African Egg</td>\n",
       "      <td>A Fast-Paced Documentary of a Pastry Chef And ...</td>\n",
       "      <td>2006</td>\n",
       "      <td>2.99</td>\n",
       "      <td>130</td>\n",
       "      <td>G</td>\n",
       "      <td>Deleted Scenes</td>\n",
       "      <td>Family</td>\n",
       "    </tr>\n",
       "    <tr>\n",
       "      <th>...</th>\n",
       "      <td>...</td>\n",
       "      <td>...</td>\n",
       "      <td>...</td>\n",
       "      <td>...</td>\n",
       "      <td>...</td>\n",
       "      <td>...</td>\n",
       "      <td>...</td>\n",
       "      <td>...</td>\n",
       "    </tr>\n",
       "    <tr>\n",
       "      <th>995</th>\n",
       "      <td>Young Language</td>\n",
       "      <td>A Unbelieveable Yarn of a Boat And a Database ...</td>\n",
       "      <td>2006</td>\n",
       "      <td>0.99</td>\n",
       "      <td>183</td>\n",
       "      <td>G</td>\n",
       "      <td>Trailers,Behind the Scenes</td>\n",
       "      <td>Documentary</td>\n",
       "    </tr>\n",
       "    <tr>\n",
       "      <th>996</th>\n",
       "      <td>Youth Kick</td>\n",
       "      <td>A Touching Drama of a Teacher And a Cat who mu...</td>\n",
       "      <td>2006</td>\n",
       "      <td>0.99</td>\n",
       "      <td>179</td>\n",
       "      <td>NC-17</td>\n",
       "      <td>Trailers,Behind the Scenes</td>\n",
       "      <td>Music</td>\n",
       "    </tr>\n",
       "    <tr>\n",
       "      <th>997</th>\n",
       "      <td>Zhivago Core</td>\n",
       "      <td>A Fateful Yarn of a Composer And a Man who mus...</td>\n",
       "      <td>2006</td>\n",
       "      <td>0.99</td>\n",
       "      <td>105</td>\n",
       "      <td>NC-17</td>\n",
       "      <td>Deleted Scenes</td>\n",
       "      <td>Horror</td>\n",
       "    </tr>\n",
       "    <tr>\n",
       "      <th>998</th>\n",
       "      <td>Zoolander Fiction</td>\n",
       "      <td>A Fateful Reflection of a Waitress And a Boat ...</td>\n",
       "      <td>2006</td>\n",
       "      <td>2.99</td>\n",
       "      <td>101</td>\n",
       "      <td>R</td>\n",
       "      <td>Trailers,Deleted Scenes</td>\n",
       "      <td>Children</td>\n",
       "    </tr>\n",
       "    <tr>\n",
       "      <th>999</th>\n",
       "      <td>Zorro Ark</td>\n",
       "      <td>A Intrepid Panorama of a Mad Scientist And a B...</td>\n",
       "      <td>2006</td>\n",
       "      <td>4.99</td>\n",
       "      <td>50</td>\n",
       "      <td>NC-17</td>\n",
       "      <td>Trailers,Commentaries,Behind the Scenes</td>\n",
       "      <td>Comedy</td>\n",
       "    </tr>\n",
       "  </tbody>\n",
       "</table>\n",
       "<p>1000 rows × 8 columns</p>\n",
       "</div>"
      ],
      "text/plain": [
       "                 title                                        description  \\\n",
       "0     Academy Dinosaur  A Epic Drama of a Feminist And a Mad Scientist...   \n",
       "1       Ace Goldfinger  A Astounding Epistle of a Database Administrat...   \n",
       "2     Adaptation Holes  A Astounding Reflection of a Lumberjack And a ...   \n",
       "3     Affair Prejudice  A Fanciful Documentary of a Frisbee And a Lumb...   \n",
       "4          African Egg  A Fast-Paced Documentary of a Pastry Chef And ...   \n",
       "..                 ...                                                ...   \n",
       "995     Young Language  A Unbelieveable Yarn of a Boat And a Database ...   \n",
       "996         Youth Kick  A Touching Drama of a Teacher And a Cat who mu...   \n",
       "997       Zhivago Core  A Fateful Yarn of a Composer And a Man who mus...   \n",
       "998  Zoolander Fiction  A Fateful Reflection of a Waitress And a Boat ...   \n",
       "999          Zorro Ark  A Intrepid Panorama of a Mad Scientist And a B...   \n",
       "\n",
       "     release_year  rental_rate  length rating  \\\n",
       "0            2006         0.99      86     PG   \n",
       "1            2006         4.99      48      G   \n",
       "2            2006         2.99      50  NC-17   \n",
       "3            2006         2.99     117      G   \n",
       "4            2006         2.99     130      G   \n",
       "..            ...          ...     ...    ...   \n",
       "995          2006         0.99     183      G   \n",
       "996          2006         0.99     179  NC-17   \n",
       "997          2006         0.99     105  NC-17   \n",
       "998          2006         2.99     101      R   \n",
       "999          2006         4.99      50  NC-17   \n",
       "\n",
       "                            special_features     category  \n",
       "0           Deleted Scenes,Behind the Scenes  Documentary  \n",
       "1                    Trailers,Deleted Scenes       Horror  \n",
       "2                    Trailers,Deleted Scenes  Documentary  \n",
       "3             Commentaries,Behind the Scenes       Horror  \n",
       "4                             Deleted Scenes       Family  \n",
       "..                                       ...          ...  \n",
       "995               Trailers,Behind the Scenes  Documentary  \n",
       "996               Trailers,Behind the Scenes        Music  \n",
       "997                           Deleted Scenes       Horror  \n",
       "998                  Trailers,Deleted Scenes     Children  \n",
       "999  Trailers,Commentaries,Behind the Scenes       Comedy  \n",
       "\n",
       "[1000 rows x 8 columns]"
      ]
     },
     "execution_count": 13,
     "metadata": {},
     "output_type": "execute_result"
    }
   ],
   "source": [
    "peliculas"
   ]
  },
  {
   "cell_type": "markdown",
   "metadata": {},
   "source": [
    "*a) Cuantas películas hay, cuantos géneros, y cuanto duran en promedio las \n",
    "películas*"
   ]
  },
  {
   "cell_type": "code",
   "execution_count": 16,
   "metadata": {},
   "outputs": [
    {
     "name": "stdout",
     "output_type": "stream",
     "text": [
      "Las películas que hay en total son: 1000\n"
     ]
    }
   ],
   "source": [
    "num_pelis= len( peliculas['title'])\n",
    "print('Las películas que hay en total son:', num_pelis)\n"
   ]
  },
  {
   "cell_type": "code",
   "execution_count": 20,
   "metadata": {},
   "outputs": [
    {
     "name": "stdout",
     "output_type": "stream",
     "text": [
      "Los géneros que hay en total son: 16\n"
     ]
    }
   ],
   "source": [
    "generos= len(peliculas.groupby('category')['category'])\n",
    "print('Los géneros que hay en total son:', generos)"
   ]
  },
  {
   "cell_type": "code",
   "execution_count": 22,
   "metadata": {},
   "outputs": [
    {
     "name": "stdout",
     "output_type": "stream",
     "text": [
      "Las películas duran en promedio: 115.27 minutos\n"
     ]
    }
   ],
   "source": [
    "prom_pelis= peliculas['length'].mean().round(2)\n",
    "print('Las películas duran en promedio:', prom_pelis, 'minutos')"
   ]
  },
  {
   "cell_type": "markdown",
   "metadata": {},
   "source": [
    "*b) crea un dataframe llamado películas_dormir con las películas que tienen una \n",
    "duración superior a 2 horas y sean documentales*"
   ]
  },
  {
   "cell_type": "code",
   "execution_count": 25,
   "metadata": {},
   "outputs": [
    {
     "name": "stdout",
     "output_type": "stream",
     "text": [
      "Las películas que son documentales y tienen una duración superior a 2 horas son:                       title  length     category\n",
      "39        Army Flintstones     148  Documentary\n",
      "57     Beach Heartbreakers     122  Documentary\n",
      "128             Cause Date     179  Documentary\n",
      "141   Chicken Hellfighters     122  Documentary\n",
      "155          Clerks Angels     164  Documentary\n",
      "205          Dancing Fever     144  Documentary\n",
      "247             Dozen Lion     177  Documentary\n",
      "260      Duffel Apocalypse     171  Documentary\n",
      "440           Hunter Alter     125  Documentary\n",
      "456     Independence Hotel     157  Documentary\n",
      "543           Madison Trap     147  Documentary\n",
      "551        Majestic Floats     130  Documentary\n",
      "570       Metal Armageddon     161  Documentary\n",
      "575            Mighty Luck     122  Documentary\n",
      "621          Newsies Story     159  Documentary\n",
      "628      Notorious Reunion     128  Documentary\n",
      "649        Pacific Amistad     144  Documentary\n",
      "686             Pocus Pulp     138  Documentary\n",
      "733           Road Roxanne     158  Documentary\n",
      "790              Show Lord     167  Documentary\n",
      "833  Spoilers Hellfighters     151  Documentary\n",
      "854       Streak Ridgemont     132  Documentary\n",
      "924           United Pilot     164  Documentary\n",
      "944        Virginian Pluto     164  Documentary\n",
      "951             Wagon Jaws     152  Documentary\n",
      "959             Wars Pluto     128  Documentary\n",
      "972              Wife Turn     183  Documentary\n",
      "991             Wrath Mile     176  Documentary\n",
      "995         Young Language     183  Documentary\n"
     ]
    }
   ],
   "source": [
    "películas_dormir= peliculas.query('length/ 60>2 & category == \"Documentary\"')[['title', 'length', 'category']]\n",
    "print('Las películas que son documentales y tienen una duración superior a 2 horas son: ', películas_dormir)"
   ]
  },
  {
   "cell_type": "markdown",
   "metadata": {},
   "source": [
    "*c) Contar cuántas películas de cada género existen*"
   ]
  },
  {
   "cell_type": "code",
   "execution_count": 32,
   "metadata": {},
   "outputs": [
    {
     "name": "stdout",
     "output_type": "stream",
     "text": [
      "El número de películas que hay por género son:\n",
      " category\n",
      "Foreign        73\n",
      "Sports         73\n",
      "Family         69\n",
      "Documentary    68\n",
      "Animation      66\n",
      "Action         64\n",
      "New            63\n",
      "Sci-Fi         61\n",
      "Drama          61\n",
      "Games          61\n",
      "Children       60\n",
      "Comedy         58\n",
      "Classics       57\n",
      "Horror         56\n",
      "Travel         56\n",
      "Music          51\n",
      "Name: count, dtype: int64\n"
     ]
    }
   ],
   "source": [
    "gen_peli= peliculas['category'].value_counts()\n",
    "print ('El número de películas que hay por género son:\\n', gen_peli)\n"
   ]
  },
  {
   "cell_type": "markdown",
   "metadata": {},
   "source": [
    "*d) Calcular la duración promedio de las películas de cada género.*"
   ]
  },
  {
   "cell_type": "code",
   "execution_count": 33,
   "metadata": {},
   "outputs": [
    {
     "name": "stdout",
     "output_type": "stream",
     "text": [
      "La duración promedio en minutos de las películas de cada género es de:                 mean\n",
      "category           \n",
      "Action       111.61\n",
      "Animation    111.02\n",
      "Children     109.80\n",
      "Classics     111.67\n",
      "Comedy       115.83\n",
      "Documentary  108.75\n",
      "Drama        119.89\n",
      "Family       114.78\n",
      "Foreign      121.70\n",
      "Games        127.84\n",
      "Horror       112.48\n",
      "Music        113.65\n",
      "New          111.13\n",
      "Sci-Fi       108.20\n",
      "Sports       127.51\n",
      "Travel       113.38\n"
     ]
    }
   ],
   "source": [
    "prom_gen= peliculas.groupby('category')['length'].agg(['mean']).round(2)\n",
    "print ('La duración promedio en minutos de las películas de cada género es de: ', prom_gen)"
   ]
  },
  {
   "cell_type": "markdown",
   "metadata": {},
   "source": [
    "*e) Crear una nueva columna que indique si una película es \"Corta\" (duración menor \n",
    "a 1.5 horas), \"Normal\" (entre 1.5 y 2.5 horas) o \"Larga\" (mayor a 2.5 horas).*"
   ]
  },
  {
   "cell_type": "code",
   "execution_count": 34,
   "metadata": {},
   "outputs": [],
   "source": [
    "peliculas['Duración']=np.where((peliculas['length']) <90, \"Corta\",np.where( (peliculas['length']) <=150, \"Normal\", \"Larga\"))"
   ]
  },
  {
   "cell_type": "code",
   "execution_count": 35,
   "metadata": {},
   "outputs": [
    {
     "data": {
      "text/html": [
       "<div>\n",
       "<style scoped>\n",
       "    .dataframe tbody tr th:only-of-type {\n",
       "        vertical-align: middle;\n",
       "    }\n",
       "\n",
       "    .dataframe tbody tr th {\n",
       "        vertical-align: top;\n",
       "    }\n",
       "\n",
       "    .dataframe thead th {\n",
       "        text-align: right;\n",
       "    }\n",
       "</style>\n",
       "<table border=\"1\" class=\"dataframe\">\n",
       "  <thead>\n",
       "    <tr style=\"text-align: right;\">\n",
       "      <th></th>\n",
       "      <th>title</th>\n",
       "      <th>description</th>\n",
       "      <th>release_year</th>\n",
       "      <th>rental_rate</th>\n",
       "      <th>length</th>\n",
       "      <th>rating</th>\n",
       "      <th>special_features</th>\n",
       "      <th>category</th>\n",
       "      <th>Duración</th>\n",
       "    </tr>\n",
       "  </thead>\n",
       "  <tbody>\n",
       "    <tr>\n",
       "      <th>0</th>\n",
       "      <td>Academy Dinosaur</td>\n",
       "      <td>A Epic Drama of a Feminist And a Mad Scientist...</td>\n",
       "      <td>2006</td>\n",
       "      <td>0.99</td>\n",
       "      <td>86</td>\n",
       "      <td>PG</td>\n",
       "      <td>Deleted Scenes,Behind the Scenes</td>\n",
       "      <td>Documentary</td>\n",
       "      <td>Corta</td>\n",
       "    </tr>\n",
       "    <tr>\n",
       "      <th>1</th>\n",
       "      <td>Ace Goldfinger</td>\n",
       "      <td>A Astounding Epistle of a Database Administrat...</td>\n",
       "      <td>2006</td>\n",
       "      <td>4.99</td>\n",
       "      <td>48</td>\n",
       "      <td>G</td>\n",
       "      <td>Trailers,Deleted Scenes</td>\n",
       "      <td>Horror</td>\n",
       "      <td>Corta</td>\n",
       "    </tr>\n",
       "    <tr>\n",
       "      <th>2</th>\n",
       "      <td>Adaptation Holes</td>\n",
       "      <td>A Astounding Reflection of a Lumberjack And a ...</td>\n",
       "      <td>2006</td>\n",
       "      <td>2.99</td>\n",
       "      <td>50</td>\n",
       "      <td>NC-17</td>\n",
       "      <td>Trailers,Deleted Scenes</td>\n",
       "      <td>Documentary</td>\n",
       "      <td>Corta</td>\n",
       "    </tr>\n",
       "    <tr>\n",
       "      <th>3</th>\n",
       "      <td>Affair Prejudice</td>\n",
       "      <td>A Fanciful Documentary of a Frisbee And a Lumb...</td>\n",
       "      <td>2006</td>\n",
       "      <td>2.99</td>\n",
       "      <td>117</td>\n",
       "      <td>G</td>\n",
       "      <td>Commentaries,Behind the Scenes</td>\n",
       "      <td>Horror</td>\n",
       "      <td>Normal</td>\n",
       "    </tr>\n",
       "    <tr>\n",
       "      <th>4</th>\n",
       "      <td>African Egg</td>\n",
       "      <td>A Fast-Paced Documentary of a Pastry Chef And ...</td>\n",
       "      <td>2006</td>\n",
       "      <td>2.99</td>\n",
       "      <td>130</td>\n",
       "      <td>G</td>\n",
       "      <td>Deleted Scenes</td>\n",
       "      <td>Family</td>\n",
       "      <td>Normal</td>\n",
       "    </tr>\n",
       "    <tr>\n",
       "      <th>...</th>\n",
       "      <td>...</td>\n",
       "      <td>...</td>\n",
       "      <td>...</td>\n",
       "      <td>...</td>\n",
       "      <td>...</td>\n",
       "      <td>...</td>\n",
       "      <td>...</td>\n",
       "      <td>...</td>\n",
       "      <td>...</td>\n",
       "    </tr>\n",
       "    <tr>\n",
       "      <th>995</th>\n",
       "      <td>Young Language</td>\n",
       "      <td>A Unbelieveable Yarn of a Boat And a Database ...</td>\n",
       "      <td>2006</td>\n",
       "      <td>0.99</td>\n",
       "      <td>183</td>\n",
       "      <td>G</td>\n",
       "      <td>Trailers,Behind the Scenes</td>\n",
       "      <td>Documentary</td>\n",
       "      <td>Larga</td>\n",
       "    </tr>\n",
       "    <tr>\n",
       "      <th>996</th>\n",
       "      <td>Youth Kick</td>\n",
       "      <td>A Touching Drama of a Teacher And a Cat who mu...</td>\n",
       "      <td>2006</td>\n",
       "      <td>0.99</td>\n",
       "      <td>179</td>\n",
       "      <td>NC-17</td>\n",
       "      <td>Trailers,Behind the Scenes</td>\n",
       "      <td>Music</td>\n",
       "      <td>Larga</td>\n",
       "    </tr>\n",
       "    <tr>\n",
       "      <th>997</th>\n",
       "      <td>Zhivago Core</td>\n",
       "      <td>A Fateful Yarn of a Composer And a Man who mus...</td>\n",
       "      <td>2006</td>\n",
       "      <td>0.99</td>\n",
       "      <td>105</td>\n",
       "      <td>NC-17</td>\n",
       "      <td>Deleted Scenes</td>\n",
       "      <td>Horror</td>\n",
       "      <td>Normal</td>\n",
       "    </tr>\n",
       "    <tr>\n",
       "      <th>998</th>\n",
       "      <td>Zoolander Fiction</td>\n",
       "      <td>A Fateful Reflection of a Waitress And a Boat ...</td>\n",
       "      <td>2006</td>\n",
       "      <td>2.99</td>\n",
       "      <td>101</td>\n",
       "      <td>R</td>\n",
       "      <td>Trailers,Deleted Scenes</td>\n",
       "      <td>Children</td>\n",
       "      <td>Normal</td>\n",
       "    </tr>\n",
       "    <tr>\n",
       "      <th>999</th>\n",
       "      <td>Zorro Ark</td>\n",
       "      <td>A Intrepid Panorama of a Mad Scientist And a B...</td>\n",
       "      <td>2006</td>\n",
       "      <td>4.99</td>\n",
       "      <td>50</td>\n",
       "      <td>NC-17</td>\n",
       "      <td>Trailers,Commentaries,Behind the Scenes</td>\n",
       "      <td>Comedy</td>\n",
       "      <td>Corta</td>\n",
       "    </tr>\n",
       "  </tbody>\n",
       "</table>\n",
       "<p>1000 rows × 9 columns</p>\n",
       "</div>"
      ],
      "text/plain": [
       "                 title                                        description  \\\n",
       "0     Academy Dinosaur  A Epic Drama of a Feminist And a Mad Scientist...   \n",
       "1       Ace Goldfinger  A Astounding Epistle of a Database Administrat...   \n",
       "2     Adaptation Holes  A Astounding Reflection of a Lumberjack And a ...   \n",
       "3     Affair Prejudice  A Fanciful Documentary of a Frisbee And a Lumb...   \n",
       "4          African Egg  A Fast-Paced Documentary of a Pastry Chef And ...   \n",
       "..                 ...                                                ...   \n",
       "995     Young Language  A Unbelieveable Yarn of a Boat And a Database ...   \n",
       "996         Youth Kick  A Touching Drama of a Teacher And a Cat who mu...   \n",
       "997       Zhivago Core  A Fateful Yarn of a Composer And a Man who mus...   \n",
       "998  Zoolander Fiction  A Fateful Reflection of a Waitress And a Boat ...   \n",
       "999          Zorro Ark  A Intrepid Panorama of a Mad Scientist And a B...   \n",
       "\n",
       "     release_year  rental_rate  length rating  \\\n",
       "0            2006         0.99      86     PG   \n",
       "1            2006         4.99      48      G   \n",
       "2            2006         2.99      50  NC-17   \n",
       "3            2006         2.99     117      G   \n",
       "4            2006         2.99     130      G   \n",
       "..            ...          ...     ...    ...   \n",
       "995          2006         0.99     183      G   \n",
       "996          2006         0.99     179  NC-17   \n",
       "997          2006         0.99     105  NC-17   \n",
       "998          2006         2.99     101      R   \n",
       "999          2006         4.99      50  NC-17   \n",
       "\n",
       "                            special_features     category Duración  \n",
       "0           Deleted Scenes,Behind the Scenes  Documentary    Corta  \n",
       "1                    Trailers,Deleted Scenes       Horror    Corta  \n",
       "2                    Trailers,Deleted Scenes  Documentary    Corta  \n",
       "3             Commentaries,Behind the Scenes       Horror   Normal  \n",
       "4                             Deleted Scenes       Family   Normal  \n",
       "..                                       ...          ...      ...  \n",
       "995               Trailers,Behind the Scenes  Documentary    Larga  \n",
       "996               Trailers,Behind the Scenes        Music    Larga  \n",
       "997                           Deleted Scenes       Horror   Normal  \n",
       "998                  Trailers,Deleted Scenes     Children   Normal  \n",
       "999  Trailers,Commentaries,Behind the Scenes       Comedy    Corta  \n",
       "\n",
       "[1000 rows x 9 columns]"
      ]
     },
     "execution_count": 35,
     "metadata": {},
     "output_type": "execute_result"
    }
   ],
   "source": [
    "peliculas"
   ]
  },
  {
   "cell_type": "markdown",
   "metadata": {},
   "source": [
    "**2.- Sabemos que en el caso de México, esta formado por estados, y cada estado esta \n",
    "formado por municipios. La base de datos población_Asgard \n",
    "raw.githubusercontent.com/jimmyzac/Estadistica-Aplicada-FCFM-UANL/main/bases_datos/poblacion_Asgard.csv contiene los datos de un país llamado \n",
    "Asgard, formado por estados y estos a su vez por municipios. Para cada municipio se \n",
    "reporta su población.**"
   ]
  },
  {
   "cell_type": "code",
   "execution_count": 38,
   "metadata": {},
   "outputs": [],
   "source": [
    "#datos\n",
    "poblacion_Asgard= pd.read_csv('https://raw.githubusercontent.com/jimmyzac/Estadistica-Aplicada-FCFM-UANL/main/bases_datos/poblacion_Asgard.csv')"
   ]
  },
  {
   "cell_type": "code",
   "execution_count": 39,
   "metadata": {},
   "outputs": [
    {
     "data": {
      "text/html": [
       "<div>\n",
       "<style scoped>\n",
       "    .dataframe tbody tr th:only-of-type {\n",
       "        vertical-align: middle;\n",
       "    }\n",
       "\n",
       "    .dataframe tbody tr th {\n",
       "        vertical-align: top;\n",
       "    }\n",
       "\n",
       "    .dataframe thead th {\n",
       "        text-align: right;\n",
       "    }\n",
       "</style>\n",
       "<table border=\"1\" class=\"dataframe\">\n",
       "  <thead>\n",
       "    <tr style=\"text-align: right;\">\n",
       "      <th></th>\n",
       "      <th>País</th>\n",
       "      <th>Estado</th>\n",
       "      <th>Municipio</th>\n",
       "      <th>Población</th>\n",
       "    </tr>\n",
       "  </thead>\n",
       "  <tbody>\n",
       "    <tr>\n",
       "      <th>0</th>\n",
       "      <td>Asgard</td>\n",
       "      <td>Pandora</td>\n",
       "      <td>Reino Tierra</td>\n",
       "      <td>377896</td>\n",
       "    </tr>\n",
       "    <tr>\n",
       "      <th>1</th>\n",
       "      <td>Asgard</td>\n",
       "      <td>Alderaan</td>\n",
       "      <td>Fuente Dorada</td>\n",
       "      <td>49984</td>\n",
       "    </tr>\n",
       "    <tr>\n",
       "      <th>2</th>\n",
       "      <td>Asgard</td>\n",
       "      <td>Genosha</td>\n",
       "      <td>El Carmen</td>\n",
       "      <td>303918</td>\n",
       "    </tr>\n",
       "    <tr>\n",
       "      <th>3</th>\n",
       "      <td>Asgard</td>\n",
       "      <td>Naboo</td>\n",
       "      <td>Omashu</td>\n",
       "      <td>265712</td>\n",
       "    </tr>\n",
       "    <tr>\n",
       "      <th>4</th>\n",
       "      <td>Asgard</td>\n",
       "      <td>Mordor</td>\n",
       "      <td>Don Bosco</td>\n",
       "      <td>121151</td>\n",
       "    </tr>\n",
       "    <tr>\n",
       "      <th>...</th>\n",
       "      <td>...</td>\n",
       "      <td>...</td>\n",
       "      <td>...</td>\n",
       "      <td>...</td>\n",
       "    </tr>\n",
       "    <tr>\n",
       "      <th>85</th>\n",
       "      <td>Asgard</td>\n",
       "      <td>Gotham</td>\n",
       "      <td>Mar violeta</td>\n",
       "      <td>44585</td>\n",
       "    </tr>\n",
       "    <tr>\n",
       "      <th>86</th>\n",
       "      <td>Asgard</td>\n",
       "      <td>Mandalore</td>\n",
       "      <td>Mar amarillo</td>\n",
       "      <td>372369</td>\n",
       "    </tr>\n",
       "    <tr>\n",
       "      <th>87</th>\n",
       "      <td>Asgard</td>\n",
       "      <td>Mustafar</td>\n",
       "      <td>Mar Azul</td>\n",
       "      <td>65044</td>\n",
       "    </tr>\n",
       "    <tr>\n",
       "      <th>88</th>\n",
       "      <td>Asgard</td>\n",
       "      <td>Atlantis</td>\n",
       "      <td>Mar amarillo</td>\n",
       "      <td>961061</td>\n",
       "    </tr>\n",
       "    <tr>\n",
       "      <th>89</th>\n",
       "      <td>Asgard</td>\n",
       "      <td>Narnia</td>\n",
       "      <td>Mar amarillo</td>\n",
       "      <td>443296</td>\n",
       "    </tr>\n",
       "  </tbody>\n",
       "</table>\n",
       "<p>90 rows × 4 columns</p>\n",
       "</div>"
      ],
      "text/plain": [
       "      País     Estado      Municipio  Población\n",
       "0   Asgard    Pandora   Reino Tierra     377896\n",
       "1   Asgard   Alderaan  Fuente Dorada      49984\n",
       "2   Asgard    Genosha      El Carmen     303918\n",
       "3   Asgard      Naboo         Omashu     265712\n",
       "4   Asgard     Mordor      Don Bosco     121151\n",
       "..     ...        ...            ...        ...\n",
       "85  Asgard     Gotham    Mar violeta      44585\n",
       "86  Asgard  Mandalore   Mar amarillo     372369\n",
       "87  Asgard   Mustafar       Mar Azul      65044\n",
       "88  Asgard   Atlantis   Mar amarillo     961061\n",
       "89  Asgard     Narnia   Mar amarillo     443296\n",
       "\n",
       "[90 rows x 4 columns]"
      ]
     },
     "execution_count": 39,
     "metadata": {},
     "output_type": "execute_result"
    }
   ],
   "source": [
    "poblacion_Asgard"
   ]
  },
  {
   "cell_type": "markdown",
   "metadata": {},
   "source": [
    "*a) Ordena la base alfabéticamente por estado y por municipio*"
   ]
  },
  {
   "cell_type": "code",
   "execution_count": 40,
   "metadata": {},
   "outputs": [
    {
     "data": {
      "text/html": [
       "<div>\n",
       "<style scoped>\n",
       "    .dataframe tbody tr th:only-of-type {\n",
       "        vertical-align: middle;\n",
       "    }\n",
       "\n",
       "    .dataframe tbody tr th {\n",
       "        vertical-align: top;\n",
       "    }\n",
       "\n",
       "    .dataframe thead th {\n",
       "        text-align: right;\n",
       "    }\n",
       "</style>\n",
       "<table border=\"1\" class=\"dataframe\">\n",
       "  <thead>\n",
       "    <tr style=\"text-align: right;\">\n",
       "      <th></th>\n",
       "      <th>País</th>\n",
       "      <th>Estado</th>\n",
       "      <th>Municipio</th>\n",
       "      <th>Población</th>\n",
       "    </tr>\n",
       "  </thead>\n",
       "  <tbody>\n",
       "    <tr>\n",
       "      <th>16</th>\n",
       "      <td>Asgard</td>\n",
       "      <td>Alderaan</td>\n",
       "      <td>Ciudad Jedi</td>\n",
       "      <td>130312</td>\n",
       "    </tr>\n",
       "    <tr>\n",
       "      <th>1</th>\n",
       "      <td>Asgard</td>\n",
       "      <td>Alderaan</td>\n",
       "      <td>Fuente Dorada</td>\n",
       "      <td>49984</td>\n",
       "    </tr>\n",
       "    <tr>\n",
       "      <th>31</th>\n",
       "      <td>Asgard</td>\n",
       "      <td>Alderaan</td>\n",
       "      <td>Luz azul</td>\n",
       "      <td>914910</td>\n",
       "    </tr>\n",
       "    <tr>\n",
       "      <th>76</th>\n",
       "      <td>Asgard</td>\n",
       "      <td>Alderaan</td>\n",
       "      <td>Madero</td>\n",
       "      <td>774290</td>\n",
       "    </tr>\n",
       "    <tr>\n",
       "      <th>46</th>\n",
       "      <td>Asgard</td>\n",
       "      <td>Alderaan</td>\n",
       "      <td>San Isidro</td>\n",
       "      <td>159338</td>\n",
       "    </tr>\n",
       "    <tr>\n",
       "      <th>...</th>\n",
       "      <td>...</td>\n",
       "      <td>...</td>\n",
       "      <td>...</td>\n",
       "      <td>...</td>\n",
       "    </tr>\n",
       "    <tr>\n",
       "      <th>8</th>\n",
       "      <td>Asgard</td>\n",
       "      <td>Yaven</td>\n",
       "      <td>El Bosque</td>\n",
       "      <td>649663</td>\n",
       "    </tr>\n",
       "    <tr>\n",
       "      <th>83</th>\n",
       "      <td>Asgard</td>\n",
       "      <td>Yaven</td>\n",
       "      <td>Green Flag</td>\n",
       "      <td>380989</td>\n",
       "    </tr>\n",
       "    <tr>\n",
       "      <th>68</th>\n",
       "      <td>Asgard</td>\n",
       "      <td>Yaven</td>\n",
       "      <td>Santa María</td>\n",
       "      <td>111687</td>\n",
       "    </tr>\n",
       "    <tr>\n",
       "      <th>53</th>\n",
       "      <td>Asgard</td>\n",
       "      <td>Yaven</td>\n",
       "      <td>Villa Wendy</td>\n",
       "      <td>646914</td>\n",
       "    </tr>\n",
       "    <tr>\n",
       "      <th>38</th>\n",
       "      <td>Asgard</td>\n",
       "      <td>Yaven</td>\n",
       "      <td>Villa amarilla</td>\n",
       "      <td>274109</td>\n",
       "    </tr>\n",
       "  </tbody>\n",
       "</table>\n",
       "<p>90 rows × 4 columns</p>\n",
       "</div>"
      ],
      "text/plain": [
       "      País    Estado       Municipio  Población\n",
       "16  Asgard  Alderaan     Ciudad Jedi     130312\n",
       "1   Asgard  Alderaan   Fuente Dorada      49984\n",
       "31  Asgard  Alderaan        Luz azul     914910\n",
       "76  Asgard  Alderaan          Madero     774290\n",
       "46  Asgard  Alderaan      San Isidro     159338\n",
       "..     ...       ...             ...        ...\n",
       "8   Asgard     Yaven       El Bosque     649663\n",
       "83  Asgard     Yaven      Green Flag     380989\n",
       "68  Asgard     Yaven     Santa María     111687\n",
       "53  Asgard     Yaven     Villa Wendy     646914\n",
       "38  Asgard     Yaven  Villa amarilla     274109\n",
       "\n",
       "[90 rows x 4 columns]"
      ]
     },
     "execution_count": 40,
     "metadata": {},
     "output_type": "execute_result"
    }
   ],
   "source": [
    "poblacion_Asgard.sort_values(['Estado', 'Municipio'])"
   ]
  },
  {
   "cell_type": "markdown",
   "metadata": {},
   "source": [
    "*b) Cuantos estados hay, cuantos municipios hay en cada estado y cuantos \n",
    "municipios hay en total.*"
   ]
  },
  {
   "cell_type": "code",
   "execution_count": 42,
   "metadata": {},
   "outputs": [
    {
     "name": "stdout",
     "output_type": "stream",
     "text": [
      "El total de estados que hay en Asgard son de: 15\n"
     ]
    }
   ],
   "source": [
    "estados= len(poblacion_asgard.groupby('Estado')['Estado'])\n",
    "print ('El total de estados que hay en Asgard son de:', estados)"
   ]
  },
  {
   "cell_type": "code",
   "execution_count": 53,
   "metadata": {},
   "outputs": [
    {
     "name": "stdout",
     "output_type": "stream",
     "text": [
      "La cantidad de municipios por estado es de:\n",
      " Estado\n",
      "Alderaan     6\n",
      "Atlantis     6\n",
      "Endor        6\n",
      "Genosha      6\n",
      "Gotham       6\n",
      "Mandalore    6\n",
      "Mordor       6\n",
      "Mustafar     6\n",
      "Naboo        6\n",
      "Narnia       6\n",
      "Pandora      6\n",
      "Sokovia      6\n",
      "Tatooine     6\n",
      "Wakanda      6\n",
      "Yaven        6\n",
      "Name: Municipio, dtype: int64\n"
     ]
    }
   ],
   "source": [
    "mun_est= poblacion_asgard.groupby('Estado')['Municipio'].count()\n",
    "print ('La cantidad de municipios por estado es de:\\n', mun_est)"
   ]
  },
  {
   "cell_type": "code",
   "execution_count": 56,
   "metadata": {},
   "outputs": [
    {
     "name": "stdout",
     "output_type": "stream",
     "text": [
      "En total hay 90 municipios en Asgard\n"
     ]
    }
   ],
   "source": [
    "mun= poblacion_asgard.groupby('Estado')['Municipio'].count().sum()\n",
    "print('En total hay', mun, 'municipios en Asgard')"
   ]
  },
  {
   "cell_type": "markdown",
   "metadata": {},
   "source": [
    "*c) Cuanta población tiene el país en total y cuanta población tiene cada estado*"
   ]
  },
  {
   "cell_type": "code",
   "execution_count": 59,
   "metadata": {},
   "outputs": [
    {
     "name": "stdout",
     "output_type": "stream",
     "text": [
      "Asgard tiene una población de 43114719\n"
     ]
    }
   ],
   "source": [
    "total= poblacion_asgard['Población'].sum()\n",
    "print ('Asgard tiene una población de', total)"
   ]
  },
  {
   "cell_type": "code",
   "execution_count": 62,
   "metadata": {},
   "outputs": [
    {
     "name": "stdout",
     "output_type": "stream",
     "text": [
      "La población por estado es de:\n",
      "                sum\n",
      "Estado            \n",
      "Alderaan   2283452\n",
      "Atlantis   3779656\n",
      "Endor      2427956\n",
      "Genosha    2871584\n",
      "Gotham     3204304\n",
      "Mandalore  2044164\n",
      "Mordor     3627119\n",
      "Mustafar   2183880\n",
      "Naboo      1602111\n",
      "Narnia     2961407\n",
      "Pandora    2959272\n",
      "Sokovia    4722224\n",
      "Tatooine   2770055\n",
      "Wakanda    2905562\n",
      "Yaven      2771973\n"
     ]
    }
   ],
   "source": [
    "pob_est= poblacion_asgard.groupby('Estado')['Población'].agg(['sum'])\n",
    "print ('La población por estado es de:\\n', pob_est)"
   ]
  },
  {
   "cell_type": "markdown",
   "metadata": {},
   "source": [
    "*d) Calcula la mediana de la población de los municipios, y clasifícalos, aquellos por \n",
    "arriba de la mediana deben llamarse “muy poblados” y aquellos debajo de la \n",
    "mediana “poco poblados”*"
   ]
  },
  {
   "cell_type": "code",
   "execution_count": 65,
   "metadata": {},
   "outputs": [
    {
     "name": "stdout",
     "output_type": "stream",
     "text": [
      "La mediana de la población de los municipios es de: 450052.0\n"
     ]
    }
   ],
   "source": [
    "median= poblacion_Asgard['Población'].median()\n",
    "print('La mediana de la población de los municipios es de:', median)"
   ]
  },
  {
   "cell_type": "code",
   "execution_count": 66,
   "metadata": {},
   "outputs": [],
   "source": [
    "poblacion_Asgard['Clasificacion']= np.where(poblacion_Asgard['Población']>= median, \"muy poblados\", \"poco poblados\")"
   ]
  },
  {
   "cell_type": "code",
   "execution_count": 67,
   "metadata": {},
   "outputs": [
    {
     "data": {
      "text/html": [
       "<div>\n",
       "<style scoped>\n",
       "    .dataframe tbody tr th:only-of-type {\n",
       "        vertical-align: middle;\n",
       "    }\n",
       "\n",
       "    .dataframe tbody tr th {\n",
       "        vertical-align: top;\n",
       "    }\n",
       "\n",
       "    .dataframe thead th {\n",
       "        text-align: right;\n",
       "    }\n",
       "</style>\n",
       "<table border=\"1\" class=\"dataframe\">\n",
       "  <thead>\n",
       "    <tr style=\"text-align: right;\">\n",
       "      <th></th>\n",
       "      <th>País</th>\n",
       "      <th>Estado</th>\n",
       "      <th>Municipio</th>\n",
       "      <th>Población</th>\n",
       "      <th>Clasificacion</th>\n",
       "    </tr>\n",
       "  </thead>\n",
       "  <tbody>\n",
       "    <tr>\n",
       "      <th>0</th>\n",
       "      <td>Asgard</td>\n",
       "      <td>Pandora</td>\n",
       "      <td>Reino Tierra</td>\n",
       "      <td>377896</td>\n",
       "      <td>poco poblados</td>\n",
       "    </tr>\n",
       "    <tr>\n",
       "      <th>1</th>\n",
       "      <td>Asgard</td>\n",
       "      <td>Alderaan</td>\n",
       "      <td>Fuente Dorada</td>\n",
       "      <td>49984</td>\n",
       "      <td>poco poblados</td>\n",
       "    </tr>\n",
       "    <tr>\n",
       "      <th>2</th>\n",
       "      <td>Asgard</td>\n",
       "      <td>Genosha</td>\n",
       "      <td>El Carmen</td>\n",
       "      <td>303918</td>\n",
       "      <td>poco poblados</td>\n",
       "    </tr>\n",
       "    <tr>\n",
       "      <th>3</th>\n",
       "      <td>Asgard</td>\n",
       "      <td>Naboo</td>\n",
       "      <td>Omashu</td>\n",
       "      <td>265712</td>\n",
       "      <td>poco poblados</td>\n",
       "    </tr>\n",
       "    <tr>\n",
       "      <th>4</th>\n",
       "      <td>Asgard</td>\n",
       "      <td>Mordor</td>\n",
       "      <td>Don Bosco</td>\n",
       "      <td>121151</td>\n",
       "      <td>poco poblados</td>\n",
       "    </tr>\n",
       "    <tr>\n",
       "      <th>...</th>\n",
       "      <td>...</td>\n",
       "      <td>...</td>\n",
       "      <td>...</td>\n",
       "      <td>...</td>\n",
       "      <td>...</td>\n",
       "    </tr>\n",
       "    <tr>\n",
       "      <th>85</th>\n",
       "      <td>Asgard</td>\n",
       "      <td>Gotham</td>\n",
       "      <td>Mar violeta</td>\n",
       "      <td>44585</td>\n",
       "      <td>poco poblados</td>\n",
       "    </tr>\n",
       "    <tr>\n",
       "      <th>86</th>\n",
       "      <td>Asgard</td>\n",
       "      <td>Mandalore</td>\n",
       "      <td>Mar amarillo</td>\n",
       "      <td>372369</td>\n",
       "      <td>poco poblados</td>\n",
       "    </tr>\n",
       "    <tr>\n",
       "      <th>87</th>\n",
       "      <td>Asgard</td>\n",
       "      <td>Mustafar</td>\n",
       "      <td>Mar Azul</td>\n",
       "      <td>65044</td>\n",
       "      <td>poco poblados</td>\n",
       "    </tr>\n",
       "    <tr>\n",
       "      <th>88</th>\n",
       "      <td>Asgard</td>\n",
       "      <td>Atlantis</td>\n",
       "      <td>Mar amarillo</td>\n",
       "      <td>961061</td>\n",
       "      <td>muy poblados</td>\n",
       "    </tr>\n",
       "    <tr>\n",
       "      <th>89</th>\n",
       "      <td>Asgard</td>\n",
       "      <td>Narnia</td>\n",
       "      <td>Mar amarillo</td>\n",
       "      <td>443296</td>\n",
       "      <td>poco poblados</td>\n",
       "    </tr>\n",
       "  </tbody>\n",
       "</table>\n",
       "<p>90 rows × 5 columns</p>\n",
       "</div>"
      ],
      "text/plain": [
       "      País     Estado      Municipio  Población  Clasificacion\n",
       "0   Asgard    Pandora   Reino Tierra     377896  poco poblados\n",
       "1   Asgard   Alderaan  Fuente Dorada      49984  poco poblados\n",
       "2   Asgard    Genosha      El Carmen     303918  poco poblados\n",
       "3   Asgard      Naboo         Omashu     265712  poco poblados\n",
       "4   Asgard     Mordor      Don Bosco     121151  poco poblados\n",
       "..     ...        ...            ...        ...            ...\n",
       "85  Asgard     Gotham    Mar violeta      44585  poco poblados\n",
       "86  Asgard  Mandalore   Mar amarillo     372369  poco poblados\n",
       "87  Asgard   Mustafar       Mar Azul      65044  poco poblados\n",
       "88  Asgard   Atlantis   Mar amarillo     961061   muy poblados\n",
       "89  Asgard     Narnia   Mar amarillo     443296  poco poblados\n",
       "\n",
       "[90 rows x 5 columns]"
      ]
     },
     "execution_count": 67,
     "metadata": {},
     "output_type": "execute_result"
    }
   ],
   "source": [
    "poblacion_Asgard"
   ]
  },
  {
   "cell_type": "markdown",
   "metadata": {},
   "source": [
    "*e) Encuentra los 5 municipios mas poblados y los cinco municipios menos \n",
    "poblados del país*"
   ]
  },
  {
   "cell_type": "code",
   "execution_count": 75,
   "metadata": {},
   "outputs": [],
   "source": [
    "pob_ord= poblacion_Asgard.sort_values('Población')"
   ]
  },
  {
   "cell_type": "code",
   "execution_count": 76,
   "metadata": {},
   "outputs": [
    {
     "name": "stdout",
     "output_type": "stream",
     "text": [
      "Los 5 municipios mas poblados son:\n",
      "         Municipio  Población\n",
      "79    Yellow town     974324\n",
      "74  Gral Escobedo     974548\n",
      "6        La Unión     986067\n",
      "27    Villa Norte     997107\n",
      "34       Madripur     998079\n"
     ]
    }
   ],
   "source": [
    "mas_pob= pob_ord.tail()[['Municipio','Población']]\n",
    "print('Los 5 municipios mas poblados son:\\n', mas_pob)"
   ]
  },
  {
   "cell_type": "code",
   "execution_count": 77,
   "metadata": {},
   "outputs": [
    {
     "name": "stdout",
     "output_type": "stream",
     "text": [
      "Los 5 municipios menos poblados son:\n",
      "       Municipio  Población\n",
      "17  Ciudad Jedi      13666\n",
      "14     Luz roja      14986\n",
      "39   Villa rosa      25538\n",
      "26  Shelbyville      31535\n",
      "85  Mar violeta      44585\n"
     ]
    }
   ],
   "source": [
    "menos_pob= pob_ord.head()[['Municipio','Población']]\n",
    "print('Los 5 municipios menos poblados son:\\n', menos_pob)"
   ]
  },
  {
   "cell_type": "markdown",
   "metadata": {},
   "source": [
    "f) El municipio más poblado de cada estado\n"
   ]
  },
  {
   "cell_type": "code",
   "execution_count": 84,
   "metadata": {},
   "outputs": [
    {
     "name": "stdout",
     "output_type": "stream",
     "text": [
      "El municipio más poblado de cada estado es:\n",
      "        Estado         Municipio  Población\n",
      "31   Alderaan          Luz azul     914910\n",
      "88   Atlantis      Mar amarillo     961061\n",
      "69      Endor       Santa María     875371\n",
      "32    Genosha   Villa Lannister     822654\n",
      "55     Gotham       Playa Verde     918710\n",
      "71  Mandalore         San Pedro     736716\n",
      "34     Mordor          Madripur     998079\n",
      "27   Mustafar       Villa Norte     997107\n",
      "33      Naboo          Luz azul     602661\n",
      "74     Narnia     Gral Escobedo     974548\n",
      "60    Pandora  Villa Demogorgon     969140\n",
      "6     Sokovia          La Unión     986067\n",
      "50   Tatooine      Villa Marlon     925414\n",
      "82    Wakanda          Redgreen     880858\n",
      "23      Yaven          Amanecer     708611\n"
     ]
    }
   ],
   "source": [
    "pos= poblacion_Asgard.groupby('Estado')['Población'].idxmax()\n",
    "mun_mas_pob= poblacion_asgard.iloc[pos][['Estado','Municipio','Población']]\n",
    "print('El municipio más poblado de cada estado es:\\n', mun_mas_pob)"
   ]
  },
  {
   "cell_type": "markdown",
   "metadata": {},
   "source": [
    "**3.- Genera un grafico de barras de:**"
   ]
  },
  {
   "cell_type": "markdown",
   "metadata": {},
   "source": [
    "*a) Los 15 municipios más poblados de Asgard*"
   ]
  },
  {
   "cell_type": "code",
   "execution_count": 104,
   "metadata": {},
   "outputs": [],
   "source": [
    "maspob= pob_ord.sort_values('Población',ascending=False).head(15)"
   ]
  },
  {
   "cell_type": "code",
   "execution_count": 105,
   "metadata": {},
   "outputs": [
    {
     "data": {
      "image/png": "[encoded data removed]",
      "text/plain": [
       "<Figure size 2300x1000 with 1 Axes>"
      ]
     },
     "metadata": {},
     "output_type": "display_data"
    }
   ],
   "source": [
    "plt.figure(figsize=(23, 10))\n",
    "plt.bar(maspob['Municipio'], maspob['Población'], color= 'purple')\n",
    "plt.title('Los 15 municipios más poblados de Asgard')\n",
    "plt.xlabel('Municipios')\n",
    "plt.ylabel('Población')\n",
    "plt.show()"
   ]
  },
  {
   "cell_type": "markdown",
   "metadata": {},
   "source": [
    "*b) Cuantas peliculas hay de cada género*"
   ]
  },
  {
   "cell_type": "code",
   "execution_count": 99,
   "metadata": {},
   "outputs": [],
   "source": [
    "graf= peliculas.groupby('category')['title'].count()\n",
    "gra= pd.DataFrame(graf)\n",
    "gra= gra.sort_values('title', ascending=False)"
   ]
  },
  {
   "cell_type": "code",
   "execution_count": 103,
   "metadata": {},
   "outputs": [
    {
     "data": {
      "image/png": "[encoded data removed]",
      "text/plain": [
       "<Figure size 2300x1000 with 1 Axes>"
      ]
     },
     "metadata": {},
     "output_type": "display_data"
    }
   ],
   "source": [
    "plt.figure(figsize=(23, 10))\n",
    "plt.bar(gra.index, gra['title'], color=['orange'])\n",
    "plt.title('Número de peliculas por género')\n",
    "plt.xlabel('Género')\n",
    "plt.ylabel('Cantidad')\n",
    "plt.show()"
   ]
  }
 ],
 "metadata": {
  "kernelspec": {
   "display_name": "Python 3",
   "language": "python",
   "name": "python3"
  },
  "language_info": {
   "codemirror_mode": {
    "name": "ipython",
    "version": 3
   },
   "file_extension": ".py",
   "mimetype": "text/x-python",
   "name": "python",
   "nbconvert_exporter": "python",
   "pygments_lexer": "ipython3",
   "version": "3.11.5"
  },
  "orig_nbformat": 4
 },
 "nbformat": 4,
 "nbformat_minor": 2
}
