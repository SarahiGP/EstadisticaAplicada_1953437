{
 "cells": [
  {
   "cell_type": "markdown",
   "metadata": {},
   "source": [
    "# Estadística Aplicada\n",
    "\n",
    "Actividad 5\n",
    "\n",
    "Cecilia Sarahí Gutiérrez Padilla 1953437 Gpo 43"
   ]
  },
  {
   "cell_type": "markdown",
   "metadata": {},
   "source": [
    "##### 3. En el enlace se encuentra la base de datos “quiebra.csv” que midelos años que tarda  en  quebrar  una  empresa  (desde  que se  crea  hasta  que quiebra),  la variable quebrar toma valores de 1 si la empresa quebró y 0 si esta censurada (no se observó la quiebra en el periodo de observación). La variable mujer toma valores  de  0  si  el  fundador  de  la  empresa  es  hombre  y  1  si  el  fundador  de  la empresa  es  mujer.  La  variable  tiempo  mide  los  años  que  tardo  en  quebrar  la empresa. Responda en una notebook de Python cada inciso. https://raw.githubusercontent.com/jimmyzac/Estadistica-Aplicada-FCFM-UANL/main/bases_datos/quiebra.csv"
   ]
  },
  {
   "cell_type": "code",
   "execution_count": 1,
   "metadata": {},
   "outputs": [],
   "source": [
    "## Librerías básicas\n",
    "import numpy as np\n",
    "import pandas as pd\n",
    "import matplotlib.pyplot as plt\n",
    "%matplotlib inline"
   ]
  },
  {
   "cell_type": "code",
   "execution_count": 8,
   "metadata": {},
   "outputs": [],
   "source": [
    "## Librerías especializadas\n",
    "from lifelines import ExponentialFitter, WeibullFitter, LogNormalFitter, KaplanMeierFitter\n",
    "from lifelines.statistics import logrank_test"
   ]
  },
  {
   "cell_type": "code",
   "execution_count": 9,
   "metadata": {},
   "outputs": [],
   "source": [
    "## Importar datos\n",
    "Quebrar= pd.read_csv('https://raw.githubusercontent.com/jimmyzac/Estadistica-Aplicada-FCFM-UANL/main/bases_datos/quiebra.csv')"
   ]
  },
  {
   "cell_type": "markdown",
   "metadata": {},
   "source": [
    "a) Ajuste un modelo de supervivencia exponencial "
   ]
  },
  {
   "cell_type": "code",
   "execution_count": 10,
   "metadata": {},
   "outputs": [],
   "source": [
    "## Ajustamos el modelo Exponencial\n",
    "mexp= ExponentialFitter().fit(Quebrar['tiempo'], Quebrar['quebrar'])"
   ]
  },
  {
   "cell_type": "markdown",
   "metadata": {},
   "source": [
    "b) Grafique la función de riesgo exponencial"
   ]
  },
  {
   "cell_type": "code",
   "execution_count": 14,
   "metadata": {},
   "outputs": [
    {
     "data": {
      "image/png": "[encoded data removed]",
      "text/plain": [
       "<Figure size 640x480 with 1 Axes>"
      ]
     },
     "metadata": {},
     "output_type": "display_data"
    }
   ],
   "source": [
    "## Gráfica para h(t)\n",
    "mexp.plot_hazard(label='Función Estimada IC 95%',color='magenta')\n",
    "plt.title('Función de Riesgo Exponencial')\n",
    "plt.xlim(1, 30)\n",
    "plt.ylim(0, 0.05)\n",
    "plt.ylabel('$h(t)$')\n",
    "plt.xlabel('Años')\n",
    "plt.show()"
   ]
  },
  {
   "cell_type": "markdown",
   "metadata": {},
   "source": [
    "c) ¿Cuáles el riesgo de que una empresa quiebre según la función exponencial?"
   ]
  },
  {
   "cell_type": "code",
   "execution_count": 16,
   "metadata": {},
   "outputs": [
    {
     "data": {
      "text/html": [
       "<div>\n",
       "<style scoped>\n",
       "    .dataframe tbody tr th:only-of-type {\n",
       "        vertical-align: middle;\n",
       "    }\n",
       "\n",
       "    .dataframe tbody tr th {\n",
       "        vertical-align: top;\n",
       "    }\n",
       "\n",
       "    .dataframe thead th {\n",
       "        text-align: right;\n",
       "    }\n",
       "</style>\n",
       "<table border=\"1\" class=\"dataframe\">\n",
       "  <thead>\n",
       "    <tr style=\"text-align: right;\">\n",
       "      <th></th>\n",
       "      <th>Exponential_estimate</th>\n",
       "    </tr>\n",
       "  </thead>\n",
       "  <tbody>\n",
       "    <tr>\n",
       "      <th>1.000000</th>\n",
       "      <td>0.032498</td>\n",
       "    </tr>\n",
       "    <tr>\n",
       "      <th>1.292929</th>\n",
       "      <td>0.032498</td>\n",
       "    </tr>\n",
       "    <tr>\n",
       "      <th>1.585859</th>\n",
       "      <td>0.032498</td>\n",
       "    </tr>\n",
       "    <tr>\n",
       "      <th>1.878788</th>\n",
       "      <td>0.032498</td>\n",
       "    </tr>\n",
       "    <tr>\n",
       "      <th>2.171717</th>\n",
       "      <td>0.032498</td>\n",
       "    </tr>\n",
       "  </tbody>\n",
       "</table>\n",
       "</div>"
      ],
      "text/plain": [
       "          Exponential_estimate\n",
       "1.000000              0.032498\n",
       "1.292929              0.032498\n",
       "1.585859              0.032498\n",
       "1.878788              0.032498\n",
       "2.171717              0.032498"
      ]
     },
     "execution_count": 16,
     "metadata": {},
     "output_type": "execute_result"
    }
   ],
   "source": [
    "## Riesgo de que la empresa quiebre\n",
    "mexp.hazard_.head(5)"
   ]
  },
  {
   "cell_type": "markdown",
   "metadata": {},
   "source": [
    "La probabilidad de que una empresa quiebre según la función exponencial es del 3.2498%."
   ]
  },
  {
   "cell_type": "markdown",
   "metadata": {},
   "source": [
    "##### 4. Con la base de datos del punto 3 responda en la misma notebook lo siguiente:"
   ]
  },
  {
   "cell_type": "markdown",
   "metadata": {},
   "source": [
    "a) Ajuste un modelo Weibull de supervivencia"
   ]
  },
  {
   "cell_type": "code",
   "execution_count": 19,
   "metadata": {},
   "outputs": [],
   "source": [
    "## Ajustamos el Modelo Weibull de supervivencia\n",
    "mweib = WeibullFitter().fit(Quebrar['tiempo'], Quebrar['quebrar'])"
   ]
  },
  {
   "cell_type": "markdown",
   "metadata": {},
   "source": [
    "b) Grafique la función de riesgo"
   ]
  },
  {
   "cell_type": "code",
   "execution_count": 23,
   "metadata": {},
   "outputs": [
    {
     "data": {
      "image/png": "[encoded data removed]",
      "text/plain": [
       "<Figure size 640x480 with 1 Axes>"
      ]
     },
     "metadata": {},
     "output_type": "display_data"
    }
   ],
   "source": [
    "## Gráfica para h(t)\n",
    "mweib.plot_hazard(label='Función Estimada IC 95%', color= 'pink')\n",
    "plt.title('Función de Riesgo Weibull')\n",
    "plt.xlim(1, 30)\n",
    "plt.ylim(0, 0.12)\n",
    "plt.ylabel('$h(t)$')\n",
    "plt.xlabel('Años')\n",
    "plt.show()"
   ]
  },
  {
   "cell_type": "markdown",
   "metadata": {},
   "source": [
    "c) ¿Qué forma tiene la función de riesgo? y ¿qué significa?"
   ]
  },
  {
   "cell_type": "code",
   "execution_count": 24,
   "metadata": {},
   "outputs": [
    {
     "data": {
      "text/plain": [
       "1.69"
      ]
     },
     "execution_count": 24,
     "metadata": {},
     "output_type": "execute_result"
    }
   ],
   "source": [
    "mweib.rho_.round(2)"
   ]
  },
  {
   "cell_type": "markdown",
   "metadata": {},
   "source": [
    "El valor de Gamma en la función exponencial es 1.69, por lo que se satisface $\\gamma > 1$. En consecuencia, la función de riesgo Weibull muestra un comportamiento creciente, indicando que el riesgo aumenta a medida que transcurre el tiempo."
   ]
  },
  {
   "cell_type": "markdown",
   "metadata": {},
   "source": [
    "##### 5. Con  la  base  de  datos  del  punto  3  responda  en  la  misma  notebook  lo siguiente:"
   ]
  },
  {
   "cell_type": "markdown",
   "metadata": {},
   "source": [
    "a) Ajuste un modelo Log-Normal"
   ]
  },
  {
   "cell_type": "code",
   "execution_count": 25,
   "metadata": {},
   "outputs": [],
   "source": [
    "## Ajustamos el modelo Log-Normal\n",
    "mlogn = LogNormalFitter().fit(Quebrar['tiempo'], Quebrar['quebrar'])"
   ]
  },
  {
   "cell_type": "markdown",
   "metadata": {},
   "source": [
    "b) Grafique la función de riesgo"
   ]
  },
  {
   "cell_type": "code",
   "execution_count": 28,
   "metadata": {},
   "outputs": [
    {
     "data": {
      "image/png": "[encoded data removed]",
      "text/plain": [
       "<Figure size 640x480 with 1 Axes>"
      ]
     },
     "metadata": {},
     "output_type": "display_data"
    }
   ],
   "source": [
    "## Gráfica de h(t)\n",
    "mlogn.plot_hazard(label='Función Estimada IC 95%', color= 'orchid')\n",
    "plt.title('Función de Riesgo Log Normal')\n",
    "plt.xlim(1, 30)\n",
    "plt.ylim(0, 0.06)\n",
    "plt.ylabel('$h(t)$')\n",
    "plt.xlabel('Años')\n",
    "plt.show()"
   ]
  },
  {
   "cell_type": "markdown",
   "metadata": {},
   "source": [
    "c) En qué periodo el riesgo de quebrar es creciente y en cuál decreciente"
   ]
  },
  {
   "cell_type": "code",
   "execution_count": 31,
   "metadata": {},
   "outputs": [
    {
     "data": {
      "text/html": [
       "<div>\n",
       "<style scoped>\n",
       "    .dataframe tbody tr th:only-of-type {\n",
       "        vertical-align: middle;\n",
       "    }\n",
       "\n",
       "    .dataframe tbody tr th {\n",
       "        vertical-align: top;\n",
       "    }\n",
       "\n",
       "    .dataframe thead th {\n",
       "        text-align: right;\n",
       "    }\n",
       "</style>\n",
       "<table border=\"1\" class=\"dataframe\">\n",
       "  <thead>\n",
       "    <tr style=\"text-align: right;\">\n",
       "      <th></th>\n",
       "      <th>LogNormal_estimate</th>\n",
       "    </tr>\n",
       "  </thead>\n",
       "  <tbody>\n",
       "    <tr>\n",
       "      <th>11.252525</th>\n",
       "      <td>0.040834</td>\n",
       "    </tr>\n",
       "    <tr>\n",
       "      <th>11.545455</th>\n",
       "      <td>0.040907</td>\n",
       "    </tr>\n",
       "    <tr>\n",
       "      <th>11.838384</th>\n",
       "      <td>0.040966</td>\n",
       "    </tr>\n",
       "    <tr>\n",
       "      <th>12.131313</th>\n",
       "      <td>0.041010</td>\n",
       "    </tr>\n",
       "    <tr>\n",
       "      <th>12.424242</th>\n",
       "      <td>0.041042</td>\n",
       "    </tr>\n",
       "    <tr>\n",
       "      <th>12.717172</th>\n",
       "      <td>0.041061</td>\n",
       "    </tr>\n",
       "    <tr>\n",
       "      <th>13.010101</th>\n",
       "      <td>0.041069</td>\n",
       "    </tr>\n",
       "    <tr>\n",
       "      <th>13.303030</th>\n",
       "      <td>0.041067</td>\n",
       "    </tr>\n",
       "    <tr>\n",
       "      <th>13.595960</th>\n",
       "      <td>0.041056</td>\n",
       "    </tr>\n",
       "    <tr>\n",
       "      <th>13.888889</th>\n",
       "      <td>0.041036</td>\n",
       "    </tr>\n",
       "  </tbody>\n",
       "</table>\n",
       "</div>"
      ],
      "text/plain": [
       "           LogNormal_estimate\n",
       "11.252525            0.040834\n",
       "11.545455            0.040907\n",
       "11.838384            0.040966\n",
       "12.131313            0.041010\n",
       "12.424242            0.041042\n",
       "12.717172            0.041061\n",
       "13.010101            0.041069\n",
       "13.303030            0.041067\n",
       "13.595960            0.041056\n",
       "13.888889            0.041036"
      ]
     },
     "execution_count": 31,
     "metadata": {},
     "output_type": "execute_result"
    }
   ],
   "source": [
    "mlogn.hazard_.iloc[35:45]"
   ]
  },
  {
   "cell_type": "markdown",
   "metadata": {},
   "source": [
    "El riesgo aumenta desde el tiempo 1 hasta el 13.010101 y luego disminuye desde el tiempo 13.010101 hasta el 30."
   ]
  },
  {
   "cell_type": "markdown",
   "metadata": {},
   "source": [
    "##### 6. Utilizando el estimador de Kaplan-Meier realice una notebook en Python para responder lo siguiente:"
   ]
  },
  {
   "cell_type": "markdown",
   "metadata": {},
   "source": [
    "a) Estime la función de supervivencia y la mediana de tiempo de supervivencia y diga que significa."
   ]
  },
  {
   "cell_type": "code",
   "execution_count": 29,
   "metadata": {},
   "outputs": [],
   "source": [
    "## Estimamos el modelo de Kaplan-Meier\n",
    "mkap = KaplanMeierFitter().fit(Quebrar['tiempo'], Quebrar['quebrar'])"
   ]
  },
  {
   "cell_type": "code",
   "execution_count": 30,
   "metadata": {},
   "outputs": [
    {
     "data": {
      "text/html": [
       "<div>\n",
       "<style scoped>\n",
       "    .dataframe tbody tr th:only-of-type {\n",
       "        vertical-align: middle;\n",
       "    }\n",
       "\n",
       "    .dataframe tbody tr th {\n",
       "        vertical-align: top;\n",
       "    }\n",
       "\n",
       "    .dataframe thead th {\n",
       "        text-align: right;\n",
       "    }\n",
       "</style>\n",
       "<table border=\"1\" class=\"dataframe\">\n",
       "  <thead>\n",
       "    <tr style=\"text-align: right;\">\n",
       "      <th></th>\n",
       "      <th>KM_estimate</th>\n",
       "    </tr>\n",
       "    <tr>\n",
       "      <th>timeline</th>\n",
       "      <th></th>\n",
       "    </tr>\n",
       "  </thead>\n",
       "  <tbody>\n",
       "    <tr>\n",
       "      <th>0.0</th>\n",
       "      <td>1.000000</td>\n",
       "    </tr>\n",
       "    <tr>\n",
       "      <th>1.0</th>\n",
       "      <td>0.990000</td>\n",
       "    </tr>\n",
       "    <tr>\n",
       "      <th>2.0</th>\n",
       "      <td>0.959694</td>\n",
       "    </tr>\n",
       "    <tr>\n",
       "      <th>3.0</th>\n",
       "      <td>0.928400</td>\n",
       "    </tr>\n",
       "    <tr>\n",
       "      <th>4.0</th>\n",
       "      <td>0.928400</td>\n",
       "    </tr>\n",
       "  </tbody>\n",
       "</table>\n",
       "</div>"
      ],
      "text/plain": [
       "          KM_estimate\n",
       "timeline             \n",
       "0.0          1.000000\n",
       "1.0          0.990000\n",
       "2.0          0.959694\n",
       "3.0          0.928400\n",
       "4.0          0.928400"
      ]
     },
     "execution_count": 30,
     "metadata": {},
     "output_type": "execute_result"
    }
   ],
   "source": [
    "## Función de supervivencia\n",
    "mkap.survival_function_.head()"
   ]
  },
  {
   "cell_type": "markdown",
   "metadata": {},
   "source": [
    "La función de supervivencia indica la probabilidad de que el evento no haya ocurrido hasta un punto dado en el tiempo, lo que implica una disminución de esta probabilidad a medida que transcurre el tiempo. Se evidencia que con el paso del tiempo, la probabilidad de que la empresa quiebre aumenta."
   ]
  },
  {
   "cell_type": "code",
   "execution_count": 32,
   "metadata": {},
   "outputs": [
    {
     "data": {
      "text/plain": [
       "23.0"
      ]
     },
     "execution_count": 32,
     "metadata": {},
     "output_type": "execute_result"
    }
   ],
   "source": [
    "mkap.median_survival_time_"
   ]
  },
  {
   "cell_type": "markdown",
   "metadata": {},
   "source": [
    "La mediana de tiempo de supervivencia indica el momento en el que se anticipa que el 50% de los eventos habrán tenido lugar. En otras palabras, representa el punto en el tiempo en el que se espera que la mitad de las empresas hayan quebrado y la otra mitad aún esté operativa. Por lo que se prevé que la mitad de las empresas habrán quebrado a los 23 años."
   ]
  },
  {
   "cell_type": "markdown",
   "metadata": {},
   "source": [
    "b) Estime la función de supervivencia por Kaplan-meier para hombres y mujeres y grafique con .plot_survival_function(ci_show=False) y diga si las empresas administradas por hombres/mujeres quiebran más rápido. No olvide etiquetar cada línea y agregar todos los elementos en cada gráfica."
   ]
  },
  {
   "cell_type": "code",
   "execution_count": 35,
   "metadata": {},
   "outputs": [],
   "source": [
    "## Separamos a las mujeres de los hombres, si son mujeres será igual a 0 y si son hombres será igual a 1\n",
    "hom = Quebrar.query('mujer==0')\n",
    "muj = Quebrar.query('mujer==1')"
   ]
  },
  {
   "cell_type": "code",
   "execution_count": 36,
   "metadata": {},
   "outputs": [],
   "source": [
    "## Funciones de supervivencia para hombres y mujeres\n",
    "mkap_h = KaplanMeierFitter().fit(hom['tiempo'], hom['quebrar'])\n",
    "mkap_m = KaplanMeierFitter().fit(muj['tiempo'], muj['quebrar'])"
   ]
  },
  {
   "cell_type": "code",
   "execution_count": 40,
   "metadata": {},
   "outputs": [
    {
     "data": {
      "image/png": "[encoded data removed]",
      "text/plain": [
       "<Figure size 640x480 with 1 Axes>"
      ]
     },
     "metadata": {},
     "output_type": "display_data"
    }
   ],
   "source": [
    "## Graficamos la función de supervivencia para los hombres y mujeres\n",
    "mkap_h.plot_survival_function(label='Hombres', color='skyblue', ci_show=False)\n",
    "mkap_m.plot_survival_function(label='Mujeres', color='plum', ci_show=False)\n",
    "plt.title('Función de Supervivencia de Kaplan-Meier de hombres y mujeres')\n",
    "plt.xlim(1, 32)\n",
    "plt.ylim(0.1,1.05)\n",
    "plt.ylabel('$\\hat{S(t)}$')\n",
    "plt.xlabel('Años')\n",
    "plt.show()"
   ]
  },
  {
   "cell_type": "markdown",
   "metadata": {},
   "source": [
    "Las diferencias en el tiempo de quiebra entre empresas dirigidas por hombres y mujeres son mínimas en general. Sin embargo, a partir de los 10 años en adelante, las empresas lideradas por hombres muestran una supervivencia más baja que las empresas dirigidas por mujeres, lo que sugiere un mayor riesgo de quiebra para la de los hombres en ese período."
   ]
  },
  {
   "cell_type": "markdown",
   "metadata": {},
   "source": [
    "c) El profesor cree que las empresas fundadas por hombres quiebran más rápido, refute o confirme con evidencia estadística tal afirmación (pruebas de hipótesis, graficas, tablas etc.)"
   ]
  },
  {
   "cell_type": "markdown",
   "metadata": {},
   "source": [
    "Prueba de hipótesis (Log Rank Test)\n",
    "\n",
    "$Ho: S(1)=S(2)$ Funciones de Supervivencia iguales.\n",
    "\n",
    "$Ha: S(1)\\neq S(2)$ Funciones de Supervivencia distintas."
   ]
  },
  {
   "cell_type": "code",
   "execution_count": 42,
   "metadata": {},
   "outputs": [
    {
     "data": {
      "text/plain": [
       "<bound method StatisticalResult.print_summary of <lifelines.StatisticalResult: logrank_test>\n",
       "               t_0 = -1\n",
       " null_distribution = chi squared\n",
       "degrees_of_freedom = 1\n",
       "         test_name = logrank_test\n",
       "\n",
       "---\n",
       " test_statistic    p  -log2(p)\n",
       "           0.28 0.59      0.75>"
      ]
     },
     "execution_count": 42,
     "metadata": {},
     "output_type": "execute_result"
    }
   ],
   "source": [
    "LogRaT = logrank_test(hom['tiempo'], muj['tiempo'], hom['quebrar'], muj['quebrar'])\n",
    "LogRaT.print_summary"
   ]
  },
  {
   "cell_type": "code",
   "execution_count": null,
   "metadata": {},
   "outputs": [
    {
     "data": {
      "text/plain": [
       "0.59"
      ]
     },
     "execution_count": 105,
     "metadata": {},
     "output_type": "execute_result"
    }
   ],
   "source": [
    "LRT.p_value.round(2)"
   ]
  },
  {
   "cell_type": "markdown",
   "metadata": {},
   "source": [
    "Dado que el valor p ($p$-value) es mayor o igual a nuestro nivel de significancia ($\\alpha$), no rechazamos la hipótesis nula (Ho), lo que indica que las funciones de supervivencia son similares. En consecuencia, no encontramos diferencias relevantes en la velocidad de quiebra entre las empresas fundadas por hombres y mujeres. Esto implica que las empresas fundadas por hombres no tienen una tasa de quiebra más rápida que las empresas fundadas por mujeres."
   ]
  },
  {
   "cell_type": "code",
   "execution_count": 46,
   "metadata": {},
   "outputs": [
    {
     "data": {
      "text/plain": [
       "22.0"
      ]
     },
     "execution_count": 46,
     "metadata": {},
     "output_type": "execute_result"
    }
   ],
   "source": [
    "mkap_h.median_survival_time_"
   ]
  },
  {
   "cell_type": "code",
   "execution_count": 47,
   "metadata": {},
   "outputs": [
    {
     "data": {
      "text/plain": [
       "25.0"
      ]
     },
     "execution_count": 47,
     "metadata": {},
     "output_type": "execute_result"
    }
   ],
   "source": [
    "mkap_m.median_survival_time_"
   ]
  },
  {
   "cell_type": "markdown",
   "metadata": {},
   "source": [
    "La mediana de tiempo de supervivencia es similar para empresas fundadas por hombres (22 años) y por mujeres (25 años), lo cual coincide con el valor calculado a través del modelo Kaplan-Meier (23 años). Esto sugiere que no hay diferencias significativas en la velocidad de quiebra entre las empresas dirigidas por ambos géneros."
   ]
  }
 ],
 "metadata": {
  "kernelspec": {
   "display_name": "Python 3",
   "language": "python",
   "name": "python3"
  },
  "language_info": {
   "codemirror_mode": {
    "name": "ipython",
    "version": 3
   },
   "file_extension": ".py",
   "mimetype": "text/x-python",
   "name": "python",
   "nbconvert_exporter": "python",
   "pygments_lexer": "ipython3",
   "version": "3.11.5"
  },
  "orig_nbformat": 4
 },
 "nbformat": 4,
 "nbformat_minor": 2
}
